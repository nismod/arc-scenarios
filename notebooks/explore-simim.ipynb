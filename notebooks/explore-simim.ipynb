{
 "cells": [
  {
   "cell_type": "markdown",
   "metadata": {},
   "source": [
    "# Explore simim drivers/outputs"
   ]
  },
  {
   "cell_type": "code",
   "execution_count": null,
   "metadata": {},
   "outputs": [],
   "source": [
    "import glob\n",
    "import os\n",
    "\n",
    "import geopandas as gpd\n",
    "import matplotlib.pyplot as plt\n",
    "import numpy as np\n",
    "import pandas as pd\n",
    "import seaborn as sns\n",
    "\n",
    "from geopandas.plotting import plot_polygon_collection"
   ]
  },
  {
   "cell_type": "code",
   "execution_count": null,
   "metadata": {},
   "outputs": [],
   "source": [
    "plt.rcParams[\"figure.figsize\"] = (10,10)"
   ]
  },
  {
   "cell_type": "code",
   "execution_count": null,
   "metadata": {},
   "outputs": [],
   "source": [
    "glob.glob(\"../simim/data/output/simim_*.csv\")"
   ]
  },
  {
   "cell_type": "code",
   "execution_count": null,
   "metadata": {},
   "outputs": [],
   "source": [
    "lads = gpd.read_file('../simim/data/cache/Local_Authority_Districts_December_2016_Ultra_Generalised_Clipped_Boundaries_in_Great_Britain.shp')"
   ]
  },
  {
   "cell_type": "code",
   "execution_count": null,
   "metadata": {},
   "outputs": [],
   "source": [
    "lads.plot()"
   ]
  },
  {
   "cell_type": "code",
   "execution_count": null,
   "metadata": {},
   "outputs": [],
   "source": [
    "arc_lads = pd.read_csv('../simim/data/scenarios/camkox_lads.csv')\n",
    "arc_lads.head(3)"
   ]
  },
  {
   "cell_type": "markdown",
   "metadata": {},
   "source": [
    "## Read baseline/scenario data"
   ]
  },
  {
   "cell_type": "code",
   "execution_count": null,
   "metadata": {},
   "outputs": [],
   "source": [
    "import simim.data_apis"
   ]
  },
  {
   "cell_type": "code",
   "execution_count": null,
   "metadata": {},
   "outputs": [],
   "source": [
    "os.chdir(\"../simim\")"
   ]
  },
  {
   "cell_type": "code",
   "execution_count": null,
   "metadata": {},
   "outputs": [],
   "source": [
    "simim_data = simim.data_apis.Instance({\n",
    "    \"coverage\": \"GB\", \n",
    "    \"cache_dir\": \"./data/cache\", \n",
    "    \"output_dir\": \"./data/output\",\n",
    "    \"model_type\": \"none\",\n",
    "    \"base_projection\": \"ppp\",\n",
    "    \"scenario\": \"none\",\n",
    "    \"attractors\": []\n",
    "})"
   ]
  },
  {
   "cell_type": "code",
   "execution_count": null,
   "metadata": {},
   "outputs": [],
   "source": [
    "dfs = []\n",
    "for year in range(2015, 2051):\n",
    "    df = simim_data.get_households(year, lads.lad16cd.unique())\n",
    "    dfs.append(df)\n",
    "households = pd.concat(dfs, sort=False).rename(columns={\"PROJECTED_YEAR_NAME\": \"YEAR\"})\n",
    "households.head()"
   ]
  },
  {
   "cell_type": "code",
   "execution_count": null,
   "metadata": {},
   "outputs": [],
   "source": [
    "households[households.GEOGRAPHY_CODE=='E07000004'].head()"
   ]
  },
  {
   "cell_type": "code",
   "execution_count": null,
   "metadata": {},
   "outputs": [],
   "source": [
    "df_emp = pd.read_csv(\"../simim/data/arc/arc_employment__baseline.csv\")\n",
    "df_gva = pd.read_csv(\"../simim/data/arc/arc_gva__baseline.csv\")\n",
    "df_dwl = pd.read_csv(\"../simim/data/arc/arc_dwellings__baseline.csv\")\n",
    "\n",
    "# merge to single dataframe\n",
    "df = df_gva \\\n",
    "  .merge(df_emp, on=[\"timestep\", \"lad_uk_2016\"], how=\"left\") \\\n",
    "  .merge(df_dwl, on=[\"timestep\", \"lad_uk_2016\"], how=\"left\")\n",
    "\n",
    "baseline = df.reset_index().rename(columns={\n",
    "    \"timestep\": \"YEAR\", \n",
    "    \"lad_uk_2016\": \"GEOGRAPHY_CODE\", \n",
    "    \"employment\": \"JOBS_baseline\", \n",
    "    \"gva\": \"GVA_baseline\", \n",
    "    \"gva_per_sector\": \"GVA_baseline\",\n",
    "    \"dwellings\": \"DWELLINGS_baseline\"\n",
    "})[[\n",
    " \"YEAR\", \"GEOGRAPHY_CODE\", \"JOBS_baseline\", \"GVA_baseline\", \"DWELLINGS_baseline\"\n",
    "]].merge(\n",
    "  households, on=[\"GEOGRAPHY_CODE\", \"YEAR\"]\n",
    ").rename(columns={\"HOUSEHOLDS\": \"HOUSEHOLDS_baseline\"})\n",
    "baseline[\"GVA_baseline\"] = baseline[\"GVA_baseline\"].round(6)\n",
    "# convert from 1000s jobs to jobs\n",
    "baseline[\"JOBS_baseline\"] = (baseline[\"JOBS_baseline\"] * 1000).round().astype(int)\n",
    "baseline.head()"
   ]
  },
  {
   "cell_type": "code",
   "execution_count": null,
   "metadata": {},
   "outputs": [],
   "source": [
    "baseline[baseline.GEOGRAPHY_CODE.isin(arc_lads.geo_code)] \\\n",
    "  .groupby([\"YEAR\"]).sum() \\\n",
    "  [['DWELLINGS_baseline', \t'HOUSEHOLDS_baseline']] \\\n",
    "  .plot()"
   ]
  },
  {
   "cell_type": "code",
   "execution_count": null,
   "metadata": {},
   "outputs": [],
   "source": [
    "dataset = baseline\n",
    "for key in ('0-unplanned', '1-new-cities', '2-expansion'):\n",
    "    if key == \"3-new-cities23\":\n",
    "        econ_key = \"1-new-cities\"\n",
    "    elif key == \"4-expansion23\":\n",
    "        econ_key = \"2-expansion\"\n",
    "    else:\n",
    "        econ_key = key\n",
    "    df_gva = pd.read_csv(\"../simim/data/arc/arc_gva__{}.csv\".format(econ_key))\n",
    "    df_emp = pd.read_csv(\"../simim/data/arc/arc_employment__{}.csv\".format(econ_key))\n",
    "    df_dwl = pd.read_csv(\"../simim/data/arc/arc_dwellings__{}.csv\".format(key))\n",
    "    \n",
    "    gva_key = \"GVA_{}\".format(key)\n",
    "    jobs_key = \"JOBS_{}\".format(key)\n",
    "    households_key = \"HOUSEHOLDS_{}\".format(key)\n",
    "\n",
    "    # merge to single dataframe\n",
    "    scenario = df_gva \\\n",
    "    .merge(df_emp, on=[\"timestep\", \"lad_uk_2016\"], how=\"left\") \\\n",
    "    .merge(df_dwl, on=[\"timestep\", \"lad_uk_2016\"], how=\"left\") \\\n",
    "    .drop(\"lad16nm\", axis=1) \\\n",
    "    .rename(columns={\"timestep\": \"YEAR\", \"lad_uk_2016\": \"GEOGRAPHY_CODE\", \"gva_per_sector\": gva_key,\n",
    "                     \"employment\": jobs_key,  \"dwellings\": households_key})\n",
    "\n",
    "    \n",
    "    dataset = dataset.merge(scenario, on=[\"YEAR\", \"GEOGRAPHY_CODE\"])\n",
    "    \n",
    "    \n",
    "    dataset[households_key] = dataset[households_key] - dataset.DWELLINGS_baseline + dataset.HOUSEHOLDS_baseline\n",
    "    \n",
    "    dataset[gva_key] = dataset[gva_key].round(6)\n",
    "    dataset[jobs_key] = (dataset[jobs_key] * 1000).round().astype(int)  # convert from 1000s jobs to jobs\n",
    "    dataset[households_key] = dataset[households_key].round().astype(int)\n",
    "\n",
    "    \n",
    "    \n",
    "dataset.head()"
   ]
  },
  {
   "cell_type": "code",
   "execution_count": null,
   "metadata": {},
   "outputs": [],
   "source": [
    "dataset[dataset.GEOGRAPHY_CODE.isin(arc_lads.geo_code)]"
   ]
  },
  {
   "cell_type": "code",
   "execution_count": null,
   "metadata": {},
   "outputs": [],
   "source": [
    "access = pd.read_csv('../simim/data/access_baseline_road_rail.csv').rename(columns={\n",
    "    \"ORIGIN_ZONE_CODE\": \"O_GEOGRAPHY_CODE\", \n",
    "    \"DESTINATION_ZONE_CODE\": \"D_GEOGRAPHY_CODE\",\n",
    "    \"GENERALISED_TRAVEL_COST\": \"ACCESSIBILITY\"\n",
    "})"
   ]
  },
  {
   "cell_type": "markdown",
   "metadata": {},
   "source": [
    "## Read outputs"
   ]
  },
  {
   "cell_type": "code",
   "execution_count": null,
   "metadata": {},
   "outputs": [],
   "source": [
    "output_path = '../simim/data/output/'\n",
    "outputs = {\n",
    "    '0-unplanned': 'simim_gravity_ppp_scenario0-unplanned__gjh_D_HOUSEHOLDS-D_JOBS-D_GVA_EX_LONDON.csv',\n",
    "    '1-new-cities': 'simim_gravity_ppp_scenario1-new-cities__gjh_D_HOUSEHOLDS-D_JOBS-D_GVA_EX_LONDON.csv',\n",
    "    '2-expansion': 'simim_gravity_ppp_scenario2-expansion__gjh_D_HOUSEHOLDS-D_JOBS-D_GVA_EX_LONDON.csv',\n",
    "    \n",
    "#     '0-unplanned-h': 'simim_gravity_ppp_scenario0-unplanned__h_D_HOUSEHOLDS.csv',\n",
    "#     '1-new-cities-h': 'simim_gravity_ppp_scenario1-new-cities__h_D_HOUSEHOLDS.csv',\n",
    "#     '2-expansion-h': 'simim_gravity_ppp_scenario2-expansion__h_D_HOUSEHOLDS.csv',\n",
    "    \n",
    "#     '0-unplanned-odb': 'simim_gravity_ppp_scenario0-unplanned__gjh_D_HOUSEHOLDS-D_JOBS_ACCESSIBILITY-D_GVA_EX_LONDON.csv',\n",
    "#     '1-new-cities-odb': 'simim_gravity_ppp_scenario1-new-cities__gjh_D_HOUSEHOLDS-D_JOBS_ACCESSIBILITY-D_GVA_EX_LONDON.csv',\n",
    "#     '2-expansion-odb': 'simim_gravity_ppp_scenario2-expansion__gjh_D_HOUSEHOLDS-D_JOBS_ACCESSIBILITY-D_GVA_EX_LONDON.csv',\n",
    "    \n",
    "    '0-unplanned-od1': 'simim_gravity_ppp_scenario0-unplanned__gjh_D_HOUSEHOLDS-D_JOBS_ACCESSIBILITY-D_GVA_EX_LONDON__od_rail_b1.csv',\n",
    "    '1-new-cities-od1': 'simim_gravity_ppp_scenario1-new-cities__gjh_D_HOUSEHOLDS-D_JOBS_ACCESSIBILITY-D_GVA_EX_LONDON__od_rail_b1.csv',\n",
    "    '2-expansion-od1': 'simim_gravity_ppp_scenario2-expansion__gjh_D_HOUSEHOLDS-D_JOBS_ACCESSIBILITY-D_GVA_EX_LONDON__od_rail_b1.csv',\n",
    "}\n",
    "    \n",
    "for key, filename in outputs.items():\n",
    "    snpp_key = \"PEOPLE_SNPP_{}\".format(key)\n",
    "    pp_key = \"PEOPLE_{}\".format(key)\n",
    "    d_key = \"RELATIVE_DELTA_{}\".format(key)\n",
    "    output = pd.read_csv(os.path.join(output_path, filename)) \\\n",
    "      .rename(columns={'PROJECTED_YEAR_NAME': 'YEAR', 'PEOPLE_SNPP': snpp_key, 'PEOPLE': pp_key, 'RELATIVE_DELTA': d_key})\n",
    "    \n",
    "    dataset = dataset.merge(output, on=[\"YEAR\", \"GEOGRAPHY_CODE\"])"
   ]
  },
  {
   "cell_type": "code",
   "execution_count": null,
   "metadata": {},
   "outputs": [],
   "source": [
    "dataset.columns"
   ]
  },
  {
   "cell_type": "code",
   "execution_count": null,
   "metadata": {},
   "outputs": [],
   "source": [
    "def access_weighted_sum(dataset, colname, access_colname):\n",
    "    new_colname = \"D_{}_{}\".format(colname, access_colname)\n",
    "    # access to x[o] for each o,d \n",
    "    dataset[new_colname] = dataset[\"O_\" + colname] * dataset[access_colname]\n",
    "    # sum over o - grouping by d\n",
    "    wsum = dataset[[\"D_GEOGRAPHY_CODE\", new_colname]].groupby(\"D_GEOGRAPHY_CODE\").sum().reset_index()\n",
    "\n",
    "    # merge back\n",
    "    dataset = dataset.merge(wsum, on=\"D_GEOGRAPHY_CODE\") \\\n",
    "        .drop(new_colname + \"_x\", axis=1) \\\n",
    "        .rename({new_colname + \"_y\": new_colname}, axis=1)\n",
    "    return dataset"
   ]
  },
  {
   "cell_type": "code",
   "execution_count": null,
   "metadata": {},
   "outputs": [],
   "source": [
    "year = 2050\n",
    "\n",
    "def add_access(df, access, year, keys):\n",
    "    o_rename_columns = {}\n",
    "    d_rename_columns = {}\n",
    "    base_keys = ('baseline', '0-unplanned', '1-new-cities', '2-expansion')\n",
    "    for key in keys:\n",
    "        for var in ('PEOPLE', 'PEOPLE_SNPP', 'RELATIVE_DELTA'):\n",
    "            o_rename_columns[\"{}_{}\".format(var, key)] = \"O_{}_{}\".format(var, key)\n",
    "            d_rename_columns[\"{}_{}\".format(var, key)] = \"D_{}_{}\".format(var, key)\n",
    "    for key in base_keys:\n",
    "        for var in ('GVA', 'JOBS', 'HOUSEHOLDS'):\n",
    "            o_rename_columns[\"{}_{}\".format(var, key)] = \"O_{}_{}\".format(var, key)\n",
    "            d_rename_columns[\"{}_{}\".format(var, key)] = \"D_{}_{}\".format(var, key)\n",
    "    \n",
    "    \n",
    "    dataset = access \\\n",
    "    .merge(\n",
    "        df[df.YEAR == year].drop(\"YEAR\", axis=1), \n",
    "        left_on=\"O_GEOGRAPHY_CODE\", right_on=\"GEOGRAPHY_CODE\"\n",
    "    ) \\\n",
    "    .drop(\"GEOGRAPHY_CODE\", axis=1) \\\n",
    "    .rename(columns=o_rename_columns) \\\n",
    "    .merge(\n",
    "        df[df.YEAR == year].drop(\"YEAR\", axis=1), \n",
    "        left_on=\"D_GEOGRAPHY_CODE\", right_on=\"GEOGRAPHY_CODE\"\n",
    "    ) \\\n",
    "    .drop(\"GEOGRAPHY_CODE\", axis=1) \\\n",
    "    .rename(columns=d_rename_columns)\n",
    "    \n",
    "    for key in base_keys:\n",
    "        dataset = access_weighted_sum(dataset, \"JOBS_{}\".format(key), \"ACCESSIBILITY\")\n",
    "\n",
    "    return dataset\n",
    "        \n",
    "with_access = add_access(dataset, access, 2050, ['baseline'] + list(outputs.keys()))\n",
    "with_access.head()"
   ]
  },
  {
   "cell_type": "code",
   "execution_count": null,
   "metadata": {},
   "outputs": [],
   "source": [
    "with_access.columns"
   ]
  },
  {
   "cell_type": "code",
   "execution_count": null,
   "metadata": {},
   "outputs": [],
   "source": [
    "# keep only columns starting with D\n",
    "d_columns = list(with_access.columns[with_access.columns.str.startswith(\"D\")])\n",
    "rename_columns = { \n",
    "    key: key.replace(\"D_\", \"\") for key in d_columns\n",
    "}\n",
    "d_data = with_access[with_access.columns[with_access.columns.str.startswith(\"D\")]] \\\n",
    "  .drop_duplicates() \\\n",
    "  .rename(columns=rename_columns)\n",
    "d_data.head()"
   ]
  },
  {
   "cell_type": "code",
   "execution_count": null,
   "metadata": {},
   "outputs": [],
   "source": [
    "d_data.columns"
   ]
  },
  {
   "cell_type": "code",
   "execution_count": null,
   "metadata": {},
   "outputs": [],
   "source": [
    "eval_geo = lads.merge(d_data, left_on=\"lad16cd\", right_on=\"GEOGRAPHY_CODE\")\n",
    "eval_geo.head()"
   ]
  },
  {
   "cell_type": "code",
   "execution_count": null,
   "metadata": {},
   "outputs": [],
   "source": [
    "eval_geo[\"JOBS_DENSITY_baseline\"] = eval_geo.JOBS_baseline / eval_geo.st_areasha\n",
    "eval_geo[\"LOG_JOBS_DENSITY_baseline\"] = np.log(eval_geo.JOBS_baseline / eval_geo.st_areasha)"
   ]
  },
  {
   "cell_type": "code",
   "execution_count": null,
   "metadata": {},
   "outputs": [],
   "source": [
    "eval_geo.JOBS_baseline.hist(bins=100)"
   ]
  },
  {
   "cell_type": "code",
   "execution_count": null,
   "metadata": {},
   "outputs": [],
   "source": [
    "eval_geo.plot(column=\"LOG_JOBS_DENSITY_baseline\")"
   ]
  },
  {
   "cell_type": "code",
   "execution_count": null,
   "metadata": {},
   "outputs": [],
   "source": [
    "eval_geo[\"LOG_JOBS_ACCESS_DENSITY_baseline\"] = np.log(eval_geo.JOBS_baseline_ACCESSIBILITY / eval_geo.st_areasha)\n",
    "eval_geo[\"JOBS_ACCESS_DENSITY_baseline\"] = eval_geo.JOBS_baseline_ACCESSIBILITY / eval_geo.st_areasha"
   ]
  },
  {
   "cell_type": "code",
   "execution_count": null,
   "metadata": {},
   "outputs": [],
   "source": [
    "eval_geo.plot(column=\"LOG_JOBS_ACCESS_DENSITY_baseline\")"
   ]
  },
  {
   "cell_type": "code",
   "execution_count": null,
   "metadata": {},
   "outputs": [],
   "source": [
    "eval_geo[\"HOUSEHOLDS_DIFF\"] = eval_geo['HOUSEHOLDS_2-expansion'] - eval_geo.HOUSEHOLDS_baseline\n",
    "eval_geo[eval_geo.HOUSEHOLDS_DIFF < -1]"
   ]
  },
  {
   "cell_type": "code",
   "execution_count": null,
   "metadata": {},
   "outputs": [],
   "source": [
    "ax = eval_geo.plot(column=\"HOUSEHOLDS_DIFF\")\n",
    "\n",
    "ax.set_aspect('equal')\n",
    "ax.set_xlim([380000, 670000])\n",
    "ax.set_ylim([70000, 350000])\n",
    "\n",
    "ax"
   ]
  },
  {
   "cell_type": "code",
   "execution_count": null,
   "metadata": {},
   "outputs": [],
   "source": [
    "eval_geo[\"JOBS_DIFF\"] = eval_geo['JOBS_2-expansion'] - eval_geo.JOBS_baseline\n",
    "eval_geo[eval_geo.JOBS_DIFF > 0]"
   ]
  },
  {
   "cell_type": "code",
   "execution_count": null,
   "metadata": {},
   "outputs": [],
   "source": [
    "eval_geo[\"GVA_DIFF\"] = eval_geo['GVA_2-expansion'] - eval_geo.GVA_baseline\n",
    "eval_geo[eval_geo.GVA_DIFF > 0]"
   ]
  },
  {
   "cell_type": "code",
   "execution_count": null,
   "metadata": {},
   "outputs": [],
   "source": [
    "eval_geo.columns"
   ]
  },
  {
   "cell_type": "code",
   "execution_count": null,
   "metadata": {},
   "outputs": [],
   "source": [
    "eval_geo[\"POPD\"] = eval_geo['PEOPLE_2-expansion'] / eval_geo.st_areasha\n",
    "eval_geo[\"POPD_SNPP\"] = eval_geo['PEOPLE_SNPP_2-expansion'] / eval_geo.st_areasha\n",
    "eval_geo[\"POPD_DIFF\"] = eval_geo.POPD - eval_geo.POPD_SNPP"
   ]
  },
  {
   "cell_type": "code",
   "execution_count": null,
   "metadata": {},
   "outputs": [],
   "source": [
    "def diff_plot(df, column):\n",
    "    fig, ax = plt.subplots(nrows=1, ncols=1, figsize=(10, 10), sharex=False, sharey=False)\n",
    "\n",
    "    ax.set_aspect('equal')\n",
    "    ax.set_xlim([120000, 670000])\n",
    "    ax.set_ylim([0, 550000])\n",
    "    ax.set_facecolor('xkcd:cerulean')\n",
    "\n",
    "    net_out = df[df[column] <= 0.0]\n",
    "    net_in = df[df[column] > 0.0]\n",
    "\n",
    "    plot_polygon_collection(\n",
    "        ax, \n",
    "        net_in['geometry'],\n",
    "        clim=(0, np.max(net_in.POPD_DIFF)), \n",
    "        cmap=\"Reds\",\n",
    "        values=np.abs(net_in.POPD_DIFF)\n",
    "    )\n",
    "    plot_polygon_collection(\n",
    "        ax, \n",
    "        net_out['geometry'],\n",
    "        clim=(0, np.max(np.abs(net_out[column]))), \n",
    "        cmap=\"Blues\",\n",
    "        values=np.abs(net_out[column])\n",
    "    )\n",
    "    return ax\n",
    "\n",
    "diff_plot(eval_geo, 'POPD_DIFF')"
   ]
  },
  {
   "cell_type": "code",
   "execution_count": null,
   "metadata": {},
   "outputs": [],
   "source": [
    "totals = dataset[dataset.GEOGRAPHY_CODE.isin(arc_lads.geo_code) & dataset.YEAR.isin([2015, 2050])] \\\n",
    "  .groupby(\"YEAR\").sum()\n",
    "cols = list(totals.columns[\n",
    "    totals.columns.str.startswith(\"PEOPLE\") \n",
    "    & ~totals.columns.str.startswith(\"PEOPLE_SNPP\")\n",
    "    & totals.columns.str.contains(\"od1\")\n",
    "])\n",
    "cols.append('PEOPLE_SNPP_0-unplanned-od1')\n",
    "totals = totals[cols]\n",
    "totals"
   ]
  },
  {
   "cell_type": "code",
   "execution_count": null,
   "metadata": {},
   "outputs": [],
   "source": [
    "totals * 1.1582"
   ]
  },
  {
   "cell_type": "code",
   "execution_count": null,
   "metadata": {},
   "outputs": [],
   "source": [
    "dataset[dataset.GEOGRAPHY_CODE == 'E06000031'][['YEAR', 'PEOPLE_SNPP_0-unplanned-od1', 'PEOPLE_0-unplanned-od1', 'PEOPLE_1-new-cities-od1', 'PEOPLE_2-expansion-od1']].plot(x='YEAR')"
   ]
  },
  {
   "cell_type": "code",
   "execution_count": null,
   "metadata": {},
   "outputs": [],
   "source": [
    "totals.plot()"
   ]
  },
  {
   "cell_type": "code",
   "execution_count": null,
   "metadata": {},
   "outputs": [],
   "source": [
    "arc_all = dataset[dataset.GEOGRAPHY_CODE.isin(arc_lads.geo_code)] \\\n",
    "  .copy() \\\n",
    "  .merge(arc_lads, left_on='GEOGRAPHY_CODE', right_on='geo_code') \\\n",
    "  [[\n",
    "    'YEAR', 'GEOGRAPHY_CODE', 'geo_label',\n",
    "    'PEOPLE_SNPP_0-unplanned', 'PEOPLE_0-unplanned-od1', 'PEOPLE_1-new-cities-od1', 'PEOPLE_2-expansion-od1',\n",
    "    'HOUSEHOLDS_baseline', 'HOUSEHOLDS_0-unplanned', 'HOUSEHOLDS_1-new-cities', 'HOUSEHOLDS_2-expansion',\n",
    "    'GVA_baseline', 'GVA_0-unplanned', 'GVA_1-new-cities', 'GVA_2-expansion', \n",
    "    'JOBS_baseline', 'JOBS_0-unplanned', 'JOBS_1-new-cities', 'JOBS_2-expansion'\n",
    "]].rename(columns={ \n",
    "    'geo_label': 'GEOGRAPHY_NAME',\n",
    "    'PEOPLE_SNPP_0-unplanned': 'PEOPLE_baseline', \n",
    "    'PEOPLE_0-unplanned-od1': 'PEOPLE_0-unplanned', \n",
    "    'PEOPLE_1-new-cities-od1': 'PEOPLE_1-new-cities', \n",
    "    'PEOPLE_2-expansion-od1': 'PEOPLE_2-expansion',\n",
    "})\n",
    "arc_all.HOUSEHOLDS_baseline = arc_all.HOUSEHOLDS_baseline.round().astype(int)\n",
    "arc_all"
   ]
  },
  {
   "cell_type": "code",
   "execution_count": null,
   "metadata": {},
   "outputs": [],
   "source": [
    "arc_all.columns"
   ]
  },
  {
   "cell_type": "code",
   "execution_count": null,
   "metadata": {},
   "outputs": [],
   "source": [
    "len(arc_lads) == len(arc_all.GEOGRAPHY_CODE.unique())"
   ]
  },
  {
   "cell_type": "code",
   "execution_count": null,
   "metadata": {},
   "outputs": [],
   "source": [
    "len(arc_all) == len(arc_all.GEOGRAPHY_CODE.unique()) * len(arc_all.YEAR.unique())"
   ]
  },
  {
   "cell_type": "code",
   "execution_count": null,
   "metadata": {},
   "outputs": [],
   "source": [
    "arc_all.to_csv('results_for_comparison.csv', index=False)"
   ]
  },
  {
   "cell_type": "markdown",
   "metadata": {},
   "source": [
    "### Summarise people-per-household"
   ]
  },
  {
   "cell_type": "code",
   "execution_count": null,
   "metadata": {},
   "outputs": [],
   "source": [
    "pph = arc_all \\\n",
    "  .groupby(\"YEAR\").sum() \\\n",
    "  [arc_all.columns[arc_all.columns.str.startswith(\"PEOPLE\") | arc_all.columns.str.startswith(\"HOUSE\")]]\n",
    "\n",
    "for key in ('baseline', '0-unplanned', '1-new-cities', '2-expansion'):\n",
    "    # 1. calculate people per household in baseline and model results\n",
    "    pph[\"PPH_{}\".format(key)] = pph[\"PEOPLE_{}\".format(key)] / pph[\"HOUSEHOLDS_{}\".format(key)]\n",
    "    \n",
    "    # 2. calculate expected total population for all-Arc, per-scenario based on baseline 2050 pph\n",
    "    if key != 'baseline':\n",
    "        pph['EXP_POP_{}'.format(key)] = pph['HOUSEHOLDS_{}'.format(key)] * pph.PPH_baseline\n",
    "        pph['PEOPLE_SCALE_FACTOR_{}'.format(key)] = pph['EXP_POP_{}'.format(key)] / pph[\"PEOPLE_{}\".format(key)]\n",
    "        \n",
    "columns = pph.columns[pph.columns.str.startswith('EXP_POP') | pph.columns.str.startswith('PEOPLE')]\n",
    "pph = pph[columns]\n",
    "pph.tail(1)"
   ]
  },
  {
   "cell_type": "code",
   "execution_count": null,
   "metadata": {},
   "outputs": [],
   "source": [
    "scale_factors = pph[pph.columns[pph.columns.str.startswith('PEOPLE_SCALE')]]\n",
    "scale_factors.tail(1)"
   ]
  },
  {
   "cell_type": "code",
   "execution_count": null,
   "metadata": {},
   "outputs": [],
   "source": [
    "\n",
    "arc_scale = arc_all.merge(scale_factors, on='YEAR', how='left')\n",
    "for key in ('0-unplanned', '1-new-cities', '2-expansion'):\n",
    "    # 3. scale initial results (in Arc area only) up to meet some expectation\n",
    "    arc_scale['SCALED_PEOPLE_{}'.format(key)] = arc_scale['PEOPLE_{}'.format(key)] \\\n",
    "        * arc_scale['PEOPLE_SCALE_FACTOR_{}'.format(key)] \n",
    "    \n",
    "    # 4. calculate rescaled people-per-household for checking\n",
    "    arc_scale['SCALED_PEOPLE_PER_HOUSEHOLD_{}'.format(key)] = arc_scale['SCALED_PEOPLE_{}'.format(key)] \\\n",
    "        / arc_scale['HOUSEHOLDS_{}'.format(key)] \n",
    "    \n",
    "arc_scale.head()"
   ]
  },
  {
   "cell_type": "code",
   "execution_count": null,
   "metadata": {},
   "outputs": [],
   "source": [
    "arc_scale_steps = arc_scale[arc_scale.YEAR.isin([2015, 2030, 2050])]\n",
    "arc_scale_steps.to_csv('scaled_results_for_comparison.csv', index=False)"
   ]
  },
  {
   "cell_type": "code",
   "execution_count": null,
   "metadata": {},
   "outputs": [],
   "source": [
    "arc_scale_steps[\n",
    "    (arc_scale_steps['SCALED_PEOPLE_PER_HOUSEHOLD_0-unplanned'] > 3) \n",
    "    | (arc_scale_steps['SCALED_PEOPLE_PER_HOUSEHOLD_1-new-cities'] > 3)\n",
    "    | (arc_scale_steps['SCALED_PEOPLE_PER_HOUSEHOLD_2-expansion'] > 3)\n",
    "]"
   ]
  }
 ],
 "metadata": {
  "kernelspec": {
   "display_name": "Python 3",
   "language": "python",
   "name": "python3"
  },
  "language_info": {
   "codemirror_mode": {
    "name": "ipython",
    "version": 3
   },
   "file_extension": ".py",
   "mimetype": "text/x-python",
   "name": "python",
   "nbconvert_exporter": "python",
   "pygments_lexer": "ipython3",
   "version": "3.6.7"
  }
 },
 "nbformat": 4,
 "nbformat_minor": 2
}
