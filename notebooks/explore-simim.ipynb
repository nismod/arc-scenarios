{
 "cells": [
  {
   "cell_type": "markdown",
   "metadata": {},
   "source": [
    "# Explore simim drivers/outputs"
   ]
  },
  {
   "cell_type": "code",
   "execution_count": null,
   "metadata": {},
   "outputs": [],
   "source": [
    "import glob\n",
    "import os\n",
    "\n",
    "import geopandas as gpd\n",
    "import matplotlib.pyplot as plt\n",
    "import numpy as np\n",
    "import pandas as pd\n",
    "import seaborn as sns\n",
    "\n",
    "from geopandas.plotting import plot_polygon_collection"
   ]
  },
  {
   "cell_type": "code",
   "execution_count": null,
   "metadata": {},
   "outputs": [],
   "source": [
    "plt.rcParams[\"figure.figsize\"] = (10,10)"
   ]
  },
  {
   "cell_type": "code",
   "execution_count": null,
   "metadata": {},
   "outputs": [],
   "source": [
    "glob.glob(\"../simim/data/output/*_D*.csv\")"
   ]
  },
  {
   "cell_type": "code",
   "execution_count": null,
   "metadata": {},
   "outputs": [],
   "source": [
    "lads = gpd.read_file('../simim/data/cache/Local_Authority_Districts_December_2016_Ultra_Generalised_Clipped_Boundaries_in_Great_Britain.shp')"
   ]
  },
  {
   "cell_type": "code",
   "execution_count": null,
   "metadata": {},
   "outputs": [],
   "source": [
    "lads.plot()"
   ]
  },
  {
   "cell_type": "code",
   "execution_count": null,
   "metadata": {},
   "outputs": [],
   "source": [
    "df_emp = pd.read_csv(\"../simim/data/arc/arc_employment__baseline.csv\")\n",
    "df_gva = pd.read_csv(\"../simim/data/arc/arc_gva__baseline.csv\")\n",
    "\n",
    "# merge to single dataframe\n",
    "df = df_gva.merge(\n",
    "df_emp, on=[\"timestep\", \"lad_uk_2016\"], how=\"left\"\n",
    ")\n",
    "\n",
    "baseline = df.reset_index().rename(columns={\n",
    "\"timestep\": \"YEAR\", \n",
    "\"lad_uk_2016\": \"GEOGRAPHY_CODE\", \n",
    "\"employment\": \"B_JOBS\", \n",
    "\"gva\": \"B_GVA\", \n",
    "\"gva_per_sector\": \"B_GVA\"\n",
    "})[[\n",
    " \"YEAR\", \"GEOGRAPHY_CODE\", \"B_JOBS\", \"B_GVA\"\n",
    "]]  \n",
    "baseline[\"B_GVA\"] = baseline[\"B_GVA\"].round(6)\n",
    "# convert from 1000s jobs to jobs\n",
    "baseline[\"B_JOBS\"] = (baseline[\"B_JOBS\"] * 1000).round().astype(int)\n",
    "baseline.head()"
   ]
  },
  {
   "cell_type": "code",
   "execution_count": null,
   "metadata": {},
   "outputs": [],
   "source": [
    "key = '0-unplanned'\n",
    "if key == \"3-new-cities23\":\n",
    "    econ_key = \"1-new-cities\"\n",
    "elif key == \"4-expansion23\":\n",
    "    econ_key = \"2-expansion\"\n",
    "else:\n",
    "    econ_key = key\n",
    "df_gva = pd.read_csv(\"../simim/data/arc/arc_gva__{}.csv\".format(econ_key))\n",
    "df_emp = pd.read_csv(\"../simim/data/arc/arc_employment__{}.csv\".format(econ_key))\n",
    "df_dwl = pd.read_csv(\"../simim/data/arc/arc_dwellings__{}.csv\".format(key))\n",
    "\n",
    "# merge to single dataframe\n",
    "scenario = df_gva \\\n",
    ".merge(df_emp, on=[\"timestep\", \"lad_uk_2016\"], how=\"left\") \\\n",
    ".merge(df_dwl, on=[\"timestep\", \"lad_uk_2016\"], how=\"left\") \\\n",
    ".drop(\"lad16nm\", axis=1) \\\n",
    ".rename(columns={\"timestep\": \"YEAR\", \"lad_uk_2016\": \"GEOGRAPHY_CODE\", \"gva_per_sector\": \"GVA\",\n",
    "                 \"employment\": \"JOBS\",  \"dwellings\": \"HOUSEHOLDS\"})\n",
    "\n",
    "\n",
    "scenario[\"GVA\"] = scenario[\"GVA\"].round(6)\n",
    "scenario[\"JOBS\"] = (scenario[\"JOBS\"] * 1000).round().astype(int)  # convert from 1000s jobs to jobs\n",
    "scenario[\"HOUSEHOLDS\"] = scenario[\"HOUSEHOLDS\"].round().astype(int)"
   ]
  },
  {
   "cell_type": "code",
   "execution_count": null,
   "metadata": {},
   "outputs": [],
   "source": [
    "access = pd.read_csv('../simim/data/arc/accessBaseline.csv').rename(columns={\n",
    "    \"ORIGIN_ZONE_CODE\": \"O_GEOGRAPHY_CODE\", \n",
    "    \"DESTINATION_ZONE_CODE\": \"D_GEOGRAPHY_CODE\",\n",
    "    \"GENERALISED_TRAVEL_COST\": \"ACCESSIBILITY\"\n",
    "})"
   ]
  },
  {
   "cell_type": "code",
   "execution_count": null,
   "metadata": {},
   "outputs": [],
   "source": [
    "#output = pd.read_csv('../simim/data/output\\\\simim_gravity_ppp_scenario0-unplanned__gjh_D_GVA-D_JOBS.csv')\n",
    "output = pd.read_csv('../simim/data/output\\\\simim_gravity_ppp_scenario0-unplanned__gjh_D_HOUSEHOLDS-D_JOBS_ACCESS-D_GVA.csv')"
   ]
  },
  {
   "cell_type": "code",
   "execution_count": null,
   "metadata": {},
   "outputs": [],
   "source": [
    "scenario.head(3), access.head(3), output.head(3)"
   ]
  },
  {
   "cell_type": "code",
   "execution_count": null,
   "metadata": {},
   "outputs": [],
   "source": [
    "def access_weighted_sum(dataset, colname, access_colname):\n",
    "    new_colname = \"D_{}_ACCESS\".format(colname)\n",
    "    # access to x[o] for each o,d \n",
    "    dataset[new_colname] = dataset[\"O_\" + colname] * dataset[access_colname]\n",
    "    # sum over o - grouping by d\n",
    "    wsum = dataset[[\"D_GEOGRAPHY_CODE\", new_colname]].groupby(\"D_GEOGRAPHY_CODE\").sum().reset_index()\n",
    "\n",
    "    # merge back\n",
    "    dataset = dataset.merge(wsum, on=\"D_GEOGRAPHY_CODE\") \\\n",
    "        .drop(new_colname + \"_x\", axis=1) \\\n",
    "        .rename({new_colname + \"_y\": new_colname}, axis=1)\n",
    "    return dataset"
   ]
  },
  {
   "cell_type": "code",
   "execution_count": null,
   "metadata": {},
   "outputs": [],
   "source": [
    "year = 2050\n",
    "\n",
    "# scenario\n",
    "dataset = access \\\n",
    ".merge(\n",
    "    scenario[scenario.YEAR == year].drop(\"YEAR\", axis=1), \n",
    "    left_on=\"O_GEOGRAPHY_CODE\", right_on=\"GEOGRAPHY_CODE\"\n",
    ") \\\n",
    ".drop(\"GEOGRAPHY_CODE\", axis=1) \\\n",
    ".rename(columns={\"GVA\": \"O_GVA\", \"JOBS\": \"O_JOBS\", \"HOUSEHOLDS\": \"O_HOUSEHOLDS\"}) \\\n",
    ".merge(\n",
    "    scenario[scenario.YEAR == year].drop(\"YEAR\", axis=1), \n",
    "    left_on=\"D_GEOGRAPHY_CODE\", right_on=\"GEOGRAPHY_CODE\"\n",
    ") \\\n",
    ".drop(\"GEOGRAPHY_CODE\", axis=1) \\\n",
    ".rename(columns={\"GVA\": \"D_GVA\", \"JOBS\": \"D_JOBS\", \"HOUSEHOLDS\": \"D_HOUSEHOLDS\"})\n",
    "\n",
    "# baseline\n",
    "dataset = dataset \\\n",
    ".merge(\n",
    "    baseline[baseline.YEAR == year].drop(\"YEAR\", axis=1), \n",
    "    left_on=\"O_GEOGRAPHY_CODE\", right_on=\"GEOGRAPHY_CODE\"\n",
    ") \\\n",
    ".drop(\"GEOGRAPHY_CODE\", axis=1) \\\n",
    ".rename(columns={\"B_GVA\": \"O_B_GVA\", \"B_JOBS\": \"O_B_JOBS\"}) \\\n",
    ".merge(\n",
    "    baseline[baseline.YEAR == year].drop(\"YEAR\", axis=1), \n",
    "    left_on=\"D_GEOGRAPHY_CODE\", right_on=\"GEOGRAPHY_CODE\"\n",
    ") \\\n",
    ".drop(\"GEOGRAPHY_CODE\", axis=1) \\\n",
    ".rename(columns={\"B_GVA\": \"D_B_GVA\", \"B_JOBS\": \"D_B_JOBS\"})\n",
    "\n",
    "dataset.head()"
   ]
  },
  {
   "cell_type": "code",
   "execution_count": null,
   "metadata": {},
   "outputs": [],
   "source": [
    "dataset = access_weighted_sum(dataset, \"JOBS\", \"ACCESSIBILITY\")\n",
    "dataset = access_weighted_sum(dataset, \"GVA\", \"ACCESSIBILITY\")\n",
    "dataset = access_weighted_sum(dataset, \"B_JOBS\", \"ACCESSIBILITY\")\n",
    "dataset = access_weighted_sum(dataset, \"B_GVA\", \"ACCESSIBILITY\")\n",
    "dataset.head()"
   ]
  },
  {
   "cell_type": "code",
   "execution_count": null,
   "metadata": {},
   "outputs": [],
   "source": [
    "d_data = dataset[[\n",
    "    \"D_GEOGRAPHY_CODE\", \"D_GVA\", \"D_JOBS\", \"D_HOUSEHOLDS\", \"D_JOBS_ACCESS\", \"D_GVA_ACCESS\", \n",
    "    \"D_B_JOBS\", \"D_B_GVA\", \"D_B_JOBS_ACCESS\", \"D_B_GVA_ACCESS\"\n",
    "]].drop_duplicates()\n",
    "d_data.head()"
   ]
  },
  {
   "cell_type": "code",
   "execution_count": null,
   "metadata": {},
   "outputs": [],
   "source": [
    "eval_data = d_data \\\n",
    ".merge(output[output.PROJECTED_YEAR_NAME == year], left_on=\"D_GEOGRAPHY_CODE\", right_on=\"GEOGRAPHY_CODE\")\n",
    "eval_data.head()"
   ]
  },
  {
   "cell_type": "code",
   "execution_count": null,
   "metadata": {},
   "outputs": [],
   "source": [
    "eval_geo = lads.merge(eval_data, left_on=\"lad16cd\", right_on=\"GEOGRAPHY_CODE\")\n",
    "eval_geo.head()"
   ]
  },
  {
   "cell_type": "code",
   "execution_count": null,
   "metadata": {},
   "outputs": [],
   "source": [
    "eval_geo[\"JOBS_DENSITY\"] = eval_geo.D_JOBS / eval_geo.st_areasha\n",
    "eval_geo[\"LOG_JOBS_DENSITY\"] = np.log(eval_geo.D_JOBS / eval_geo.st_areasha)"
   ]
  },
  {
   "cell_type": "code",
   "execution_count": null,
   "metadata": {},
   "outputs": [],
   "source": [
    "eval_geo.D_JOBS.hist(bins=100)"
   ]
  },
  {
   "cell_type": "code",
   "execution_count": null,
   "metadata": {},
   "outputs": [],
   "source": [
    "eval_geo.plot(column=\"LOG_JOBS_DENSITY\")"
   ]
  },
  {
   "cell_type": "code",
   "execution_count": null,
   "metadata": {},
   "outputs": [],
   "source": [
    "eval_geo[\"LOG_JOBS_ACCESS_DENSITY\"] = np.log(eval_geo.D_JOBS_ACCESS / eval_geo.st_areasha)\n",
    "eval_geo[\"JOBS_ACCESS_DENSITY\"] = eval_geo.D_JOBS_ACCESS / eval_geo.st_areasha"
   ]
  },
  {
   "cell_type": "code",
   "execution_count": null,
   "metadata": {},
   "outputs": [],
   "source": [
    "eval_geo.plot(column=\"LOG_JOBS_ACCESS_DENSITY\")"
   ]
  },
  {
   "cell_type": "code",
   "execution_count": null,
   "metadata": {},
   "outputs": [],
   "source": [
    "eval_geo[\"JOBS_DIFF\"] = eval_geo.D_JOBS - eval_geo.D_B_JOBS\n",
    "eval_geo[eval_geo.JOBS_DIFF > 0]"
   ]
  },
  {
   "cell_type": "code",
   "execution_count": null,
   "metadata": {},
   "outputs": [],
   "source": [
    "eval_geo[\"GVA_DIFF\"] = eval_geo.D_GVA - eval_geo.D_B_GVA\n",
    "eval_geo[eval_geo.GVA_DIFF > 0]"
   ]
  },
  {
   "cell_type": "code",
   "execution_count": null,
   "metadata": {},
   "outputs": [],
   "source": [
    "eval_geo[\"POPD\"] = eval_geo.PEOPLE / eval_geo.st_areasha\n",
    "eval_geo[\"POPD_SNPP\"] = eval_geo.PEOPLE_SNPP / eval_geo.st_areasha\n",
    "eval_geo[\"POPD_DIFF\"] = eval_geo.POPD - eval_geo.POPD_SNPP"
   ]
  },
  {
   "cell_type": "code",
   "execution_count": null,
   "metadata": {},
   "outputs": [],
   "source": [
    "fig, ax = plt.subplots(nrows=1, ncols=1, figsize=(10, 10), sharex=False, sharey=False)\n",
    "\n",
    "ax.set_aspect('equal')\n",
    "ax.set_xlim([120000, 670000])\n",
    "ax.set_ylim([0, 550000])\n",
    "ax.set_facecolor('xkcd:cerulean')\n",
    "\n",
    "net_out = eval_geo[eval_geo.POPD_DIFF <= 0.0]\n",
    "net_in = eval_geo[eval_geo.POPD_DIFF > 0.0]\n",
    "\n",
    "plot_polygon_collection(\n",
    "    ax, \n",
    "    net_in['geometry'],\n",
    "    clim=(0, np.max(net_in.POPD_DIFF)), \n",
    "    cmap=\"Reds\",\n",
    "    values=np.abs(net_in.POPD_DIFF)\n",
    ")\n",
    "plot_polygon_collection(\n",
    "    ax, \n",
    "    net_out['geometry'],\n",
    "    clim=(0, np.max(np.abs(net_out.POPD_DIFF))), \n",
    "    cmap=\"Blues\",\n",
    "    values=np.abs(net_out.POPD_DIFF)\n",
    ")\n",
    "\n",
    "ax"
   ]
  },
  {
   "cell_type": "code",
   "execution_count": null,
   "metadata": {},
   "outputs": [],
   "source": [
    "net_in = net_in.copy()\n",
    "net_in[\"POP_DIFF\"] = net_in.PEOPLE - net_in.PEOPLE_SNPP\n",
    "net_in[[\"lad16nm\", \"PEOPLE\", \"PEOPLE_SNPP\",\"POP_DIFF\"]]"
   ]
  },
  {
   "cell_type": "code",
   "execution_count": null,
   "metadata": {},
   "outputs": [],
   "source": [
    "net_in.POP_DIFF.sum()"
   ]
  }
 ],
 "metadata": {
  "kernelspec": {
   "display_name": "Python 3",
   "language": "python",
   "name": "python3"
  },
  "language_info": {
   "codemirror_mode": {
    "name": "ipython",
    "version": 3
   },
   "file_extension": ".py",
   "mimetype": "text/x-python",
   "name": "python",
   "nbconvert_exporter": "python",
   "pygments_lexer": "ipython3",
   "version": "3.6.7"
  }
 },
 "nbformat": 4,
 "nbformat_minor": 2
}
