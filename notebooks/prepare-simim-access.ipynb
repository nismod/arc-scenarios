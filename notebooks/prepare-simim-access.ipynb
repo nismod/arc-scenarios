{
 "cells": [
  {
   "cell_type": "code",
   "execution_count": null,
   "metadata": {},
   "outputs": [],
   "source": [
    "import glob\n",
    "import os\n",
    "\n",
    "import geopandas as gpd\n",
    "import matplotlib.pyplot as plt\n",
    "import numpy as np\n",
    "import pandas as pd\n",
    "import seaborn as sns\n",
    "\n",
    "from geopandas.plotting import plot_polygon_collection"
   ]
  },
  {
   "cell_type": "code",
   "execution_count": null,
   "metadata": {},
   "outputs": [],
   "source": [
    "plt.rcParams[\"figure.figsize\"] = (10,10)"
   ]
  },
  {
   "cell_type": "code",
   "execution_count": null,
   "metadata": {},
   "outputs": [],
   "source": [
    "def rename(df):\n",
    "    return df.rename(columns={\n",
    "        \"ORIGIN_ZONE_CODE\": \"O_GEOGRAPHY_CODE\", \n",
    "        \"DESTINATION_ZONE_CODE\": \"D_GEOGRAPHY_CODE\",\n",
    "        \"GENERALISED_TRAVEL_COST\": \"ACCESSIBILITY\"\n",
    "    })"
   ]
  },
  {
   "cell_type": "code",
   "execution_count": null,
   "metadata": {},
   "outputs": [],
   "source": [
    "def no_negative(df):\n",
    "    df.loc[df.ACCESSIBILITY < 0, \"ACCESSIBILITY\"] = df.ACCESSIBILITY.max()\n",
    "    return df"
   ]
  },
  {
   "cell_type": "code",
   "execution_count": null,
   "metadata": {},
   "outputs": [],
   "source": [
    "rail_baseline = no_negative(rename(pd.read_csv('../simim/data/arc/costRailBaseline.csv'))) \\\n",
    "  .rename(columns={\"ACCESSIBILITY\": \"RAIL_BASE\"})\n",
    "road_baseline = no_negative(rename(pd.read_csv('../simim/data/arc/costRoadBaseline.csv'))) \\\n",
    "  .rename(columns={\"ACCESSIBILITY\": \"ROAD_BASE\"})\n",
    "rail_scenario = no_negative(rename(pd.read_csv('../simim/data/arc/costRailScenario.csv'))) \\\n",
    "  .rename(columns={\"ACCESSIBILITY\": \"RAIL_SCEN\"})\n",
    "road_b3 = no_negative(rename(pd.read_csv('../simim/data/arc/costRoadB3.csv'))) \\\n",
    "  .rename(columns={\"ACCESSIBILITY\": \"ROAD_SCEN\"})"
   ]
  },
  {
   "cell_type": "code",
   "execution_count": null,
   "metadata": {},
   "outputs": [],
   "source": [
    "costs = rail_baseline \\\n",
    "  .merge(road_baseline, on=[\"O_GEOGRAPHY_CODE\", \"D_GEOGRAPHY_CODE\"]) \\\n",
    "  .merge(rail_scenario, on=[\"O_GEOGRAPHY_CODE\", \"D_GEOGRAPHY_CODE\"]) \\\n",
    "  .merge(road_b3, on=[\"O_GEOGRAPHY_CODE\", \"D_GEOGRAPHY_CODE\"])\n",
    "costs.head()"
   ]
  },
  {
   "cell_type": "code",
   "execution_count": null,
   "metadata": {},
   "outputs": [],
   "source": [
    "costs.sort_values(by='ROAD_BASE').head(20)"
   ]
  },
  {
   "cell_type": "code",
   "execution_count": null,
   "metadata": {},
   "outputs": [],
   "source": [
    "# smaller beta means steeper decay function (-1 falls off more slowly than -2)\n",
    "beta = -3\n",
    "\n",
    "costs[\"ROAD_ACCESSIBILITY_BASE\"] = np.power(costs.ROAD_BASE, beta)\n",
    "costs[\"RAIL_ACCESSIBILITY_BASE\"] = np.power(costs.RAIL_BASE, beta)\n",
    "costs[\"ACCESSIBILITY_BASE\"] = np.log(np.exp(costs.ROAD_ACCESSIBILITY_BASE) + np.exp(costs.RAIL_ACCESSIBILITY_BASE))\n",
    "\n",
    "costs[\"ROAD_ACCESSIBILITY_SCEN\"] = np.power(costs.ROAD_SCEN, beta)\n",
    "costs[\"RAIL_ACCESSIBILITY_SCEN\"] = np.power(costs.RAIL_SCEN, beta)\n",
    "costs[\"ACCESSIBILITY_SCEN\"] = np.log(np.exp(costs.ROAD_ACCESSIBILITY_SCEN) + np.exp(costs.RAIL_ACCESSIBILITY_SCEN))"
   ]
  },
  {
   "cell_type": "code",
   "execution_count": null,
   "metadata": {},
   "outputs": [],
   "source": [
    "# normalise to 1 maximum\n",
    "max_access = max(costs.ACCESSIBILITY_BASE.max(), costs.ACCESSIBILITY_SCEN.max())\n",
    "min_access = min(costs.ACCESSIBILITY_BASE.min(), costs.ACCESSIBILITY_SCEN.min())\n",
    "costs[\"ACCESSIBILITY_BASE\"] = (costs.ACCESSIBILITY_BASE - min_access) / (max_access - min_access)\n",
    "costs[\"ACCESSIBILITY_SCEN\"] = (costs.ACCESSIBILITY_SCEN - min_access) / (max_access - min_access)"
   ]
  },
  {
   "cell_type": "code",
   "execution_count": null,
   "metadata": {},
   "outputs": [],
   "source": [
    "costs.ACCESSIBILITY_SCEN.describe()"
   ]
  },
  {
   "cell_type": "code",
   "execution_count": null,
   "metadata": {},
   "outputs": [],
   "source": [
    "costs[\"RAIL_ACCESSIBILITY_DIFF\"] = costs.RAIL_ACCESSIBILITY_SCEN - costs.RAIL_ACCESSIBILITY_BASE\n",
    "costs[\"ROAD_ACCESSIBILITY_DIFF\"] = costs.ROAD_ACCESSIBILITY_SCEN - costs.ROAD_ACCESSIBILITY_BASE\n",
    "costs[\"ACCESSIBILITY_DIFF\"] = costs.ACCESSIBILITY_SCEN - costs.ACCESSIBILITY_BASE"
   ]
  },
  {
   "cell_type": "code",
   "execution_count": null,
   "metadata": {},
   "outputs": [],
   "source": [
    "costs.sort_values(by=\"ROAD_ACCESSIBILITY_DIFF\").tail()"
   ]
  },
  {
   "cell_type": "code",
   "execution_count": null,
   "metadata": {},
   "outputs": [],
   "source": [
    "costs.sort_values(by=\"RAIL_ACCESSIBILITY_DIFF\").tail()"
   ]
  },
  {
   "cell_type": "code",
   "execution_count": null,
   "metadata": {},
   "outputs": [],
   "source": [
    "costs.sort_values(by=\"ACCESSIBILITY_DIFF\").tail()"
   ]
  },
  {
   "cell_type": "markdown",
   "metadata": {},
   "source": [
    "### Force self-access to be 1"
   ]
  },
  {
   "cell_type": "code",
   "execution_count": null,
   "metadata": {},
   "outputs": [],
   "source": [
    "costs.loc[(costs.O_GEOGRAPHY_CODE == costs.D_GEOGRAPHY_CODE), ['ACCESSIBILITY_BASE', 'ACCESSIBILITY_SCEN']] = 1"
   ]
  },
  {
   "cell_type": "markdown",
   "metadata": {},
   "source": [
    "## Output to CSV"
   ]
  },
  {
   "cell_type": "code",
   "execution_count": null,
   "metadata": {},
   "outputs": [],
   "source": [
    "baseline = costs[[\n",
    "    \"O_GEOGRAPHY_CODE\", \"D_GEOGRAPHY_CODE\", \n",
    "    \"ACCESSIBILITY_BASE\", \"ROAD_ACCESSIBILITY_BASE\", \"RAIL_ACCESSIBILITY_BASE\"]] \\\n",
    "  .rename(columns={\n",
    "    \"ROAD_ACCESSIBILITY_BASE\": \"ROAD_ACCESSIBILITY\", \n",
    "    \"RAIL_ACCESSIBILITY_BASE\": \"RAIL_ACCESSIBILITY\", \n",
    "    \"ACCESSIBILITY_BASE\": \"ACCESSIBILITY\"}) \n",
    "\n",
    "baseline.to_csv(\"../simim/data/access_baseline_road_rail.csv\")"
   ]
  },
  {
   "cell_type": "code",
   "execution_count": null,
   "metadata": {},
   "outputs": [],
   "source": [
    "# output with projected year in scenario (road, rail, both)\n",
    "\n",
    "scenario = costs[[\n",
    "    \"O_GEOGRAPHY_CODE\", \"D_GEOGRAPHY_CODE\", \n",
    "    \"ACCESSIBILITY_SCEN\", \"ROAD_ACCESSIBILITY_SCEN\", \"RAIL_ACCESSIBILITY_SCEN\"]] \\\n",
    "  .rename(columns={\n",
    "    \"ROAD_ACCESSIBILITY_SCEN\": \"ROAD_ACCESSIBILITY\", \n",
    "    \"RAIL_ACCESSIBILITY_SCEN\": \"RAIL_ACCESSIBILITY\", \n",
    "    \"ACCESSIBILITY_SCEN\": \"ACCESSIBILITY\"})\n",
    "\n",
    "scenario[\"YEAR\"] = 2030\n",
    "\n",
    "scenario.to_csv(\"../simim/data/scenarios/od_rail_b1.csv\")"
   ]
  },
  {
   "cell_type": "code",
   "execution_count": null,
   "metadata": {},
   "outputs": [],
   "source": [
    "baseline[baseline.O_GEOGRAPHY_CODE != baseline.D_GEOGRAPHY_CODE].sort_values(by='ACCESSIBILITY').tail()"
   ]
  },
  {
   "cell_type": "markdown",
   "metadata": {},
   "source": [
    "## Effect on jobs accessibility"
   ]
  },
  {
   "cell_type": "code",
   "execution_count": null,
   "metadata": {},
   "outputs": [],
   "source": [
    "df_emp = pd.read_csv(\"../simim/data/arc/arc_employment__baseline.csv\")\n",
    "df_gva = pd.read_csv(\"../simim/data/arc/arc_gva__baseline.csv\")\n",
    "\n",
    "# merge to single dataframe\n",
    "df = df_gva.merge(\n",
    "df_emp, on=[\"timestep\", \"lad_uk_2016\"], how=\"left\"\n",
    ")\n",
    "\n",
    "zone_base = df.reset_index().rename(columns={\n",
    "\"timestep\": \"YEAR\", \n",
    "\"lad_uk_2016\": \"GEOGRAPHY_CODE\", \n",
    "\"employment\": \"JOBS\", \n",
    "\"gva\": \"GVA\", \n",
    "\"gva_per_sector\": \"GVA\"\n",
    "})[[\n",
    " \"YEAR\", \"GEOGRAPHY_CODE\", \"JOBS\", \"GVA\"\n",
    "]]\n",
    "zone_base[\"GVA\"] = zone_base[\"GVA\"].round(6)\n",
    "# convert from 1000s jobs to jobs\n",
    "zone_base[\"JOBS\"] = (zone_base[\"JOBS\"] * 1000).round().astype(int)\n",
    "zone_base = zone_base[zone_base.YEAR == 2030].drop(\"YEAR\", axis=1)\n",
    "zone_base.head()"
   ]
  },
  {
   "cell_type": "code",
   "execution_count": null,
   "metadata": {},
   "outputs": [],
   "source": [
    "key = '0-unplanned'\n",
    "\n",
    "if key == \"3-new-cities23\":\n",
    "    econ_key = \"1-new-cities\"\n",
    "elif key == \"4-expansion23\":\n",
    "    econ_key = \"2-expansion\"\n",
    "else:\n",
    "    econ_key = key\n",
    "df_gva = pd.read_csv(\"../simim/data/arc/arc_gva__{}.csv\".format(econ_key))\n",
    "df_emp = pd.read_csv(\"../simim/data/arc/arc_employment__{}.csv\".format(econ_key))\n",
    "\n",
    "# merge to single dataframe\n",
    "zone_scen = df_gva \\\n",
    ".merge(df_emp, on=[\"timestep\", \"lad_uk_2016\"], how=\"left\") \\\n",
    ".rename(columns={\"timestep\": \"YEAR\", \"lad_uk_2016\": \"GEOGRAPHY_CODE\", \"gva_per_sector\": \"GVA\",\n",
    "                 \"employment\": \"JOBS\",  \"dwellings\": \"HOUSEHOLDS\"})\n",
    "\n",
    "\n",
    "zone_scen[\"GVA\"] = zone_scen[\"GVA\"].round(6)\n",
    "zone_scen[\"JOBS\"] = (zone_scen[\"JOBS\"] * 1000).round().astype(int)  # convert from 1000s jobs to jobs\n",
    "zone_scen = zone_scen[zone_scen.YEAR == 2030].drop(\"YEAR\", axis=1)\n",
    "zone_scen.head()"
   ]
  },
  {
   "cell_type": "code",
   "execution_count": null,
   "metadata": {},
   "outputs": [],
   "source": [
    "def access_weighted_sum(dataset, colname, access_colname):\n",
    "    new_colname = \"D_{}_{}\".format(colname, access_colname)\n",
    "    # access to x[o] for each o,d \n",
    "    dataset[new_colname] = dataset[\"O_\" + colname] * dataset[access_colname]\n",
    "    # sum over o - grouping by d\n",
    "    wsum = dataset[[\"D_GEOGRAPHY_CODE\", new_colname]].groupby(\"D_GEOGRAPHY_CODE\").sum().reset_index()\n",
    "\n",
    "    # merge back\n",
    "    dataset = dataset.merge(wsum, on=\"D_GEOGRAPHY_CODE\") \\\n",
    "        .drop(new_colname + \"_x\", axis=1) \\\n",
    "        .rename({new_colname + \"_y\": new_colname}, axis=1)\n",
    "    return dataset"
   ]
  },
  {
   "cell_type": "code",
   "execution_count": null,
   "metadata": {},
   "outputs": [],
   "source": [
    "dataset = costs[['O_GEOGRAPHY_CODE', 'D_GEOGRAPHY_CODE', 'ACCESSIBILITY_BASE','ACCESSIBILITY_SCEN']].copy() \\\n",
    "  .merge(zone_base, left_on='D_GEOGRAPHY_CODE', right_on='GEOGRAPHY_CODE') \\\n",
    "  .rename(columns={'GVA': 'D_GVA_BASE', 'JOBS': 'D_JOBS_BASE'}) \\\n",
    "  .merge(zone_base, left_on='O_GEOGRAPHY_CODE', right_on='GEOGRAPHY_CODE') \\\n",
    "  .rename(columns={'GVA': 'O_GVA_BASE', 'JOBS': 'O_JOBS_BASE'}) \\\n",
    "  .merge(zone_scen, left_on='D_GEOGRAPHY_CODE', right_on='GEOGRAPHY_CODE') \\\n",
    "  .rename(columns={'GVA': 'D_GVA_SCEN', 'JOBS': 'D_JOBS_SCEN'}) \\\n",
    "  .merge(zone_scen, left_on='O_GEOGRAPHY_CODE', right_on='GEOGRAPHY_CODE') \\\n",
    "  .rename(columns={'GVA': 'O_GVA_SCEN', 'JOBS': 'O_JOBS_SCEN'}) \\\n",
    "  .drop(['GEOGRAPHY_CODE_x', 'GEOGRAPHY_CODE_y'], axis=1)\n",
    "\n",
    "# EX LONDON\n",
    "# dataset.loc[dataset.D_GEOGRAPHY_CODE.str.startswith('E09'), ['D_JOBS_BASE', 'D_JOBS_SCEN']] = 0\n",
    "# dataset.loc[dataset.O_GEOGRAPHY_CODE.str.startswith('E09'), ['O_JOBS_BASE', 'O_JOBS_SCEN']] = 0\n",
    "\n",
    "dataset = access_weighted_sum(dataset, 'JOBS_BASE', 'ACCESSIBILITY_BASE')\n",
    "dataset = access_weighted_sum(dataset, 'JOBS_SCEN', 'ACCESSIBILITY_BASE')\n",
    "dataset = access_weighted_sum(dataset, 'JOBS_SCEN', 'ACCESSIBILITY_SCEN')\n",
    "dataset.columns"
   ]
  },
  {
   "cell_type": "markdown",
   "metadata": {},
   "source": [
    "## Explore decay function"
   ]
  },
  {
   "cell_type": "code",
   "execution_count": null,
   "metadata": {},
   "outputs": [],
   "source": [
    "lads = gpd.read_file('../simim/data/cache/Local_Authority_Districts_December_2016_Ultra_Generalised_Clipped_Boundaries_in_Great_Britain.shp')"
   ]
  },
  {
   "cell_type": "code",
   "execution_count": null,
   "metadata": {},
   "outputs": [],
   "source": [
    "access_df = dataset[['D_GEOGRAPHY_CODE', 'D_JOBS_BASE', 'D_GVA_BASE', 'D_GVA_SCEN', 'D_JOBS_SCEN', \n",
    "  'D_JOBS_BASE_ACCESSIBILITY_BASE', 'D_JOBS_SCEN_ACCESSIBILITY_BASE', 'D_JOBS_SCEN_ACCESSIBILITY_SCEN']] \\\n",
    "  .copy().drop_duplicates()\n",
    "access_df = lads.merge(access_df, right_on=\"D_GEOGRAPHY_CODE\", left_on=\"lad16cd\")\n",
    "access_df['JOBS_ACCESS_DIFF'] = access_df.D_JOBS_SCEN_ACCESSIBILITY_BASE - access_df.D_JOBS_BASE_ACCESSIBILITY_BASE\n",
    "access_df['JOBS_ACCESS_SCEN_DIFF'] = access_df.D_JOBS_SCEN_ACCESSIBILITY_SCEN - access_df.D_JOBS_SCEN_ACCESSIBILITY_BASE\n",
    "access_df['JOBS_DIFF'] = access_df.D_JOBS_SCEN - access_df.D_JOBS_BASE\n",
    "len(access_df)"
   ]
  },
  {
   "cell_type": "code",
   "execution_count": null,
   "metadata": {},
   "outputs": [],
   "source": [
    "access_df.head()"
   ]
  },
  {
   "cell_type": "code",
   "execution_count": null,
   "metadata": {},
   "outputs": [],
   "source": [
    "access_df.plot(column='D_JOBS_BASE_ACCESSIBILITY_BASE')"
   ]
  },
  {
   "cell_type": "code",
   "execution_count": null,
   "metadata": {},
   "outputs": [],
   "source": [
    "def diff_plot(df, colname):\n",
    "    fig, ax = plt.subplots(nrows=1, ncols=1, figsize=(10, 10))\n",
    "    ax.set_aspect('equal')\n",
    "    net_positive = df[df[colname] > 0.0]\n",
    "    net_negative = df[df[colname] <= 0.0]\n",
    "\n",
    "    plot_polygon_collection(\n",
    "        ax, \n",
    "        net_positive['geometry'],\n",
    "        clim=(0, np.max(net_positive[colname])), \n",
    "        cmap=\"Reds\",\n",
    "        values=np.abs(net_positive[colname])\n",
    "    )\n",
    "    plot_polygon_collection(\n",
    "        ax, \n",
    "        net_negative['geometry'],\n",
    "        clim=(0, np.max(np.abs(net_negative[colname]))), \n",
    "        cmap=\"Blues\",\n",
    "        values=np.abs(net_negative[colname])\n",
    "    )\n",
    "\n",
    "    return ax"
   ]
  },
  {
   "cell_type": "code",
   "execution_count": null,
   "metadata": {},
   "outputs": [],
   "source": [
    "ax = diff_plot(access_df, 'JOBS_DIFF')\n",
    "ax.set_ylim([70000, 350000])\n",
    "# ax.set_ylim([270000, 650000])\n",
    "ax.set_xlim([330000, 670000])\n",
    "ax"
   ]
  },
  {
   "cell_type": "code",
   "execution_count": null,
   "metadata": {},
   "outputs": [],
   "source": [
    "ax = diff_plot(access_df, 'JOBS_ACCESS_DIFF')\n",
    "ax.set_ylim([70000, 350000])\n",
    "# ax.set_ylim([270000, 650000])\n",
    "ax.set_xlim([330000, 670000])\n",
    "ax.set_title(\"Change in job-accessibility over baseline\")\n",
    "ax"
   ]
  },
  {
   "cell_type": "code",
   "execution_count": null,
   "metadata": {},
   "outputs": [],
   "source": [
    "ax = diff_plot(access_df, 'JOBS_ACCESS_SCEN_DIFF')\n",
    "ax.set_ylim([70000, 350000])\n",
    "# ax.set_ylim([270000, 650000])\n",
    "ax.set_xlim([330000, 670000])\n",
    "ax.set_title(\"Difference in job-accessibility between scenarios with and without new transport links\")\n",
    "ax"
   ]
  },
  {
   "cell_type": "code",
   "execution_count": null,
   "metadata": {},
   "outputs": [],
   "source": [
    "access_df[['JOBS_ACCESS_DIFF', 'JOBS_ACCESS_SCEN_DIFF', 'JOBS_DIFF']].describe()"
   ]
  },
  {
   "cell_type": "code",
   "execution_count": null,
   "metadata": {},
   "outputs": [],
   "source": [
    "access_df[access_df.JOBS_ACCESS_SCEN_DIFF < -0.2]"
   ]
  },
  {
   "cell_type": "code",
   "execution_count": null,
   "metadata": {},
   "outputs": [],
   "source": [
    "from_df = no_travel[no_travel.O_GEOGRAPHY_CODE == \"E07000178\"]\n",
    "from_df = lads.merge(from_df, right_on=\"D_GEOGRAPHY_CODE\", left_on=\"lad16cd\")"
   ]
  },
  {
   "cell_type": "code",
   "execution_count": null,
   "metadata": {},
   "outputs": [],
   "source": [
    "ax = from_df.plot(column=\"ACCESSIBILITY\")\n",
    "ax.set_ylim([70000, 350000])\n",
    "# ax.set_ylim([270000, 650000])\n",
    "ax.set_xlim([330000, 670000])\n",
    "ax"
   ]
  },
  {
   "cell_type": "code",
   "execution_count": null,
   "metadata": {},
   "outputs": [],
   "source": [
    "factor = 20\n",
    "steps = factor * 9 + 1\n",
    "\n",
    "df = pd.DataFrame({\"p\": list(range(factor,steps+factor))})\n",
    "df.p /= factor\n",
    "df[\"d-0.5\"] = np.power(df.p, -0.5)\n",
    "df[\"d-1.0\"] = np.power(df.p, -1.0)\n",
    "df[\"d-2.0\"] = np.power(df.p, -2.0)\n",
    "df[\"d-4.0\"] = np.power(df.p, -4.0)\n",
    "df[\"d-8.0\"] = np.power(df.p, -8.0)\n",
    "df.plot(x=\"p\")"
   ]
  }
 ],
 "metadata": {
  "kernelspec": {
   "display_name": "Python 3",
   "language": "python",
   "name": "python3"
  },
  "language_info": {
   "codemirror_mode": {
    "name": "ipython",
    "version": 3
   },
   "file_extension": ".py",
   "mimetype": "text/x-python",
   "name": "python",
   "nbconvert_exporter": "python",
   "pygments_lexer": "ipython3",
   "version": "3.6.7"
  }
 },
 "nbformat": 4,
 "nbformat_minor": 2
}
