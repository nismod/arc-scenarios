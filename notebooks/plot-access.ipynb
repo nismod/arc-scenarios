{
 "cells": [
  {
   "cell_type": "markdown",
   "metadata": {},
   "source": [
    "# Plot inter-LAD accessibility"
   ]
  },
  {
   "cell_type": "code",
   "execution_count": null,
   "metadata": {},
   "outputs": [],
   "source": [
    "import os\n",
    "\n",
    "import geopandas as gpd\n",
    "import matplotlib.pyplot as plt\n",
    "import numpy as np\n",
    "import pandas as pd\n",
    "import seaborn as sns\n",
    "\n",
    "from geopandas.plotting import plot_polygon_collection"
   ]
  },
  {
   "cell_type": "code",
   "execution_count": null,
   "metadata": {},
   "outputs": [],
   "source": [
    "plt.rcParams[\"figure.figsize\"] = (10,10)"
   ]
  },
  {
   "cell_type": "code",
   "execution_count": null,
   "metadata": {},
   "outputs": [],
   "source": [
    "access_base = pd.read_csv(\"../simim/data/arc/accessBaseline.csv\") \\\n",
    "    .sort_values(by=['ORIGIN_ZONE_CODE', 'DESTINATION_ZONE_CODE'])\n",
    "access_scen = pd.read_csv(\"../simim/data/arc/accessScenario3.csv\") \\\n",
    "    .sort_values(by=['ORIGIN_ZONE_CODE', 'DESTINATION_ZONE_CODE'])"
   ]
  },
  {
   "cell_type": "code",
   "execution_count": null,
   "metadata": {},
   "outputs": [],
   "source": [
    "access_base.head()"
   ]
  },
  {
   "cell_type": "code",
   "execution_count": null,
   "metadata": {},
   "outputs": [],
   "source": [
    "od_base = access_base.pivot(index='ORIGIN_ZONE_CODE', columns='DESTINATION_ZONE_CODE').to_numpy()\n",
    "od_scen = access_scen.pivot(index='ORIGIN_ZONE_CODE', columns='DESTINATION_ZONE_CODE').to_numpy()"
   ]
  },
  {
   "cell_type": "code",
   "execution_count": null,
   "metadata": {},
   "outputs": [],
   "source": [
    "def plot_cdf(ser):\n",
    "    \"\"\"Plot CDF of a series\n",
    "    \n",
    "    See https://stackoverflow.com/questions/25577352/plotting-cdf-of-a-pandas-series-in-python/#answer-31971245\n",
    "    \"\"\"\n",
    "    # sort ascending\n",
    "    ser = ser.sort_values()\n",
    "\n",
    "    # append again the last (and largest) value in order to get an unbiased CDF\n",
    "    ser[len(ser)] = ser.iloc[-1]\n",
    "\n",
    "    # Create a new series with the sorted values as index and the cumulative distribution as values:\n",
    "    cum_dist = np.linspace(0.,1.,len(ser))\n",
    "    ser_cdf = pd.Series(cum_dist, index=ser)\n",
    "\n",
    "    # Finally, plot the function as steps\n",
    "    ax = ser_cdf.plot(drawstyle='steps')\n",
    "    return ax"
   ]
  },
  {
   "cell_type": "code",
   "execution_count": null,
   "metadata": {},
   "outputs": [],
   "source": [
    "plot_cdf(access_base.GENERALISED_TRAVEL_COST)"
   ]
  },
  {
   "cell_type": "code",
   "execution_count": null,
   "metadata": {},
   "outputs": [],
   "source": [
    "diff = (access_scen.GENERALISED_TRAVEL_COST - access_base.GENERALISED_TRAVEL_COST)\n",
    "diff = diff[diff > 1e-04]  # zoom in on more-than-minute differences\n",
    "plot_cdf(diff)"
   ]
  },
  {
   "cell_type": "code",
   "execution_count": null,
   "metadata": {},
   "outputs": [],
   "source": [
    "# using seaborn heatmap (gives labels and colorbar)\n",
    "sns.heatmap(access_base.pivot(index='ORIGIN_ZONE_CODE', columns='DESTINATION_ZONE_CODE', values='GENERALISED_TRAVEL_COST'))    "
   ]
  },
  {
   "cell_type": "code",
   "execution_count": null,
   "metadata": {},
   "outputs": [],
   "source": [
    "# plain numpy array option (slightly faster)\n",
    "plt.imshow(od_scen - od_base)"
   ]
  },
  {
   "cell_type": "markdown",
   "metadata": {},
   "source": [
    "## Focus on ARC accessibilty"
   ]
  },
  {
   "cell_type": "code",
   "execution_count": null,
   "metadata": {},
   "outputs": [],
   "source": [
    "arc_lads = pd.read_csv(\"../simim/data/scenarios/camkox_lads.csv\")"
   ]
  },
  {
   "cell_type": "code",
   "execution_count": null,
   "metadata": {},
   "outputs": [],
   "source": [
    "warc_access_base = access_base[\n",
    "    access_base.ORIGIN_ZONE_CODE.isin(arc_lads.geo_code) & access_base.DESTINATION_ZONE_CODE.isin(arc_lads.geo_code)]\n",
    "warc_access_scen = access_scen[\n",
    "    access_scen.ORIGIN_ZONE_CODE.isin(arc_lads.geo_code) & access_scen.DESTINATION_ZONE_CODE.isin(arc_lads.geo_code)]\n",
    "warc_od_base = warc_access_base.pivot(index='ORIGIN_ZONE_CODE', columns='DESTINATION_ZONE_CODE', values='GENERALISED_TRAVEL_COST')\n",
    "warc_od_scen = warc_access_scen.pivot(index='ORIGIN_ZONE_CODE', columns='DESTINATION_ZONE_CODE', values='GENERALISED_TRAVEL_COST')"
   ]
  },
  {
   "cell_type": "code",
   "execution_count": null,
   "metadata": {},
   "outputs": [],
   "source": [
    "sns.heatmap(warc_od_base)"
   ]
  },
  {
   "cell_type": "code",
   "execution_count": null,
   "metadata": {},
   "outputs": [],
   "source": [
    "sns.heatmap(warc_od_scen - warc_od_base)"
   ]
  },
  {
   "cell_type": "code",
   "execution_count": null,
   "metadata": {},
   "outputs": [],
   "source": [
    "arc_access_base = access_base[\n",
    "    access_base.ORIGIN_ZONE_CODE.isin(arc_lads.geo_code) | access_base.DESTINATION_ZONE_CODE.isin(arc_lads.geo_code)]\n",
    "arc_access_scen = access_scen[\n",
    "    access_scen.ORIGIN_ZONE_CODE.isin(arc_lads.geo_code) | access_scen.DESTINATION_ZONE_CODE.isin(arc_lads.geo_code)]"
   ]
  },
  {
   "cell_type": "code",
   "execution_count": null,
   "metadata": {},
   "outputs": [],
   "source": [
    "arc_od_base = arc_access_base.pivot(index='ORIGIN_ZONE_CODE', columns='DESTINATION_ZONE_CODE', values='GENERALISED_TRAVEL_COST')\n",
    "arc_od_scen = arc_access_scen.pivot(index='ORIGIN_ZONE_CODE', columns='DESTINATION_ZONE_CODE', values='GENERALISED_TRAVEL_COST')"
   ]
  },
  {
   "cell_type": "code",
   "execution_count": null,
   "metadata": {},
   "outputs": [],
   "source": [
    "sns.heatmap(arc_od_base)"
   ]
  },
  {
   "cell_type": "code",
   "execution_count": null,
   "metadata": {},
   "outputs": [],
   "source": [
    "sns.heatmap(arc_od_scen - arc_od_base)"
   ]
  },
  {
   "cell_type": "code",
   "execution_count": null,
   "metadata": {},
   "outputs": [],
   "source": [
    "diff = (\n",
    "    arc_access_scen.set_index([\"ORIGIN_ZONE_CODE\", \"DESTINATION_ZONE_CODE\"]) - \n",
    "    arc_access_base.set_index([\"ORIGIN_ZONE_CODE\", \"DESTINATION_ZONE_CODE\"])\n",
    ") \\\n",
    "    .reset_index() \\\n",
    "    .merge(arc_lads, how=\"left\", left_on=\"ORIGIN_ZONE_CODE\", right_on=\"geo_code\").drop(\"geo_code\", axis=1) \\\n",
    "    .rename(columns={\"geo_label\": \"O_NAME\"}) \\\n",
    "    .merge(arc_lads, how=\"left\", left_on=\"DESTINATION_ZONE_CODE\", right_on=\"geo_code\").drop(\"geo_code\", axis=1) \\\n",
    "    .rename(columns={\"geo_label\": \"D_NAME\"}) \\\n",
    "    .sort_values(by=\"GENERALISED_TRAVEL_COST\", ascending=False)"
   ]
  },
  {
   "cell_type": "code",
   "execution_count": null,
   "metadata": {},
   "outputs": [],
   "source": [
    "diff.head(20)"
   ]
  }
 ],
 "metadata": {
  "kernelspec": {
   "display_name": "Python 3",
   "language": "python",
   "name": "python3"
  },
  "language_info": {
   "codemirror_mode": {
    "name": "ipython",
    "version": 3
   },
   "file_extension": ".py",
   "mimetype": "text/x-python",
   "name": "python",
   "nbconvert_exporter": "python",
   "pygments_lexer": "ipython3",
   "version": "3.6.7"
  }
 },
 "nbformat": 4,
 "nbformat_minor": 2
}
