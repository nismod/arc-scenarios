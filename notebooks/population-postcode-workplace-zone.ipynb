{
 "cells": [
  {
   "cell_type": "markdown",
   "metadata": {},
   "source": [
    "# Scale population and employment for Postcode Sectors and Workplace Zones"
   ]
  },
  {
   "cell_type": "markdown",
   "metadata": {},
   "source": [
    "In outline:\n",
    "- get area definitions for Local Authority Districts (LAD - 2011 and 2016), Workplace Zones (WZ), Postcode Sectors (PS), Postcodes (PCD) in Great Britain\n",
    "- read 2011 census data for workplace population at LAD, WZ\n",
    "- read 2011 census data for usual resident population at LAD, PS, PCD\n",
    "- convert 2011 LAD codes to 2016 equivalents\n",
    "- read population and employment scenarios and baseline projection at LAD scale\n",
    "- scale future employment to workplace zones\n",
    "- scale future population to postcode sectors"
   ]
  },
  {
   "cell_type": "markdown",
   "metadata": {},
   "source": [
    "## Citations\n",
    "\n",
    "England, Northern Ireland, Scotland and Wales 2011 Census\n",
    "- Office for National Statistics ; National Records of Scotland ; Northern Ireland Statistics and Research Agency (2017): 2011 Census aggregate data. UK Data Service (Edition: February 2017). DOI: http://dx.doi.org/10.5257/census/aggregate-2011-2\n",
    "This information is licensed under the terms of the Open Government Licence [http://www.nationalarchives.gov.uk/doc/open-government-licence/version/2].\n",
    "\n",
    "England and Wales 2001 Census\n",
    "- Office for National Statistics (2011): 2001 Census aggregate data (Edition: May 2011). UK Data Service. DOI: http://dx.doi.org/10.5257/census/aggregate-2001-2\n"
   ]
  },
  {
   "cell_type": "code",
   "execution_count": null,
   "metadata": {},
   "outputs": [],
   "source": [
    "import os\n",
    "import zipfile\n",
    "from glob import glob\n",
    "\n",
    "import geopandas as gpd\n",
    "import pandas as pd\n",
    "import requests\n",
    "from geopandas.tools import explicit_crs_from_epsg\n",
    "from shapely.geometry import Point"
   ]
  },
  {
   "cell_type": "markdown",
   "metadata": {},
   "source": [
    "## Get boundaries and lookups"
   ]
  },
  {
   "cell_type": "code",
   "execution_count": null,
   "metadata": {},
   "outputs": [],
   "source": [
    "def download(url, filename, dirname=\".\", force=False):\n",
    "    if force or not os.path.exists(filename):\n",
    "        r = requests.get(url, stream=True)\n",
    "        with open(filename, 'wb') as fd:\n",
    "            for chunk in r.iter_content(chunk_size=128):\n",
    "                fd.write(chunk)\n",
    "    if filename.endswith(\".zip\"):\n",
    "        with zipfile.ZipFile(filename,\"r\") as zf:\n",
    "            zf.extractall(dirname)    "
   ]
  },
  {
   "cell_type": "code",
   "execution_count": null,
   "metadata": {},
   "outputs": [],
   "source": [
    "# Scotland Workplace Zones\n",
    "# ref: https://www.nrscotland.gov.uk/statistics-and-data/geography/our-products/census-datasets/2011-census/2011-boundaries\n",
    "url = \"https://www.nrscotland.gov.uk/files//geography/products/workplacezones2011scotland.zip\"\n",
    "download(url, \"data/workplacezones2011scotland.zip\")\n",
    "wz_sc = gpd.read_file(\"data/WorkplaceZones2011Scotland/WorkplaceZones2011Scotland.shp\").rename(columns={\n",
    "    'LADCD': 'lad11cd',\n",
    "    'WZCD': 'wz11cd'\n",
    "})\n",
    "wz_sc.head()"
   ]
  },
  {
   "cell_type": "code",
   "execution_count": null,
   "metadata": {},
   "outputs": [],
   "source": [
    "# England and Wales Workplace Zones\n",
    "# ref: https://geoportal.statistics.gov.uk/datasets/workplace-zones-december-2011-full-clipped-boundaries-in-england-and-wales\n",
    "url = \"https://opendata.arcgis.com/datasets/a399c2a5922a4beaa080de63c0a218a3_0.zip?outSR=%7B%22latestWkid%22%3A27700%2C%22wkid%22%3A27700%7D\"\n",
    "download(url, \"data/workplacezones2011ew.zip\", \"data\")\n",
    "wz_ew = gpd.read_file(\"data/Workplace_Zones_December_2011_Full_Clipped_Boundaries_in_England_and_Wales.shp\")[\n",
    "    ['lad11cd', 'wz11cd', 'geometry']\n",
    "]\n",
    "wz_ew.head()"
   ]
  },
  {
   "cell_type": "code",
   "execution_count": null,
   "metadata": {},
   "outputs": [],
   "source": [
    "# GB Postcode Sectors\n",
    "# ref: https://datashare.is.ed.ac.uk/handle/10283/2597\n",
    "url = \"https://datashare.is.ed.ac.uk/bitstream/handle/10283/2597/GB_Postcodes.zip?sequence=1&isAllowed=y\"\n",
    "download(url, \"data/gb_postcodes.zip\", \"data\")\n",
    "ps = gpd.read_file(\"data/GB_Postcodes/PostalSector.shp\").rename(columns={\n",
    "    'StrSect': 'postcode_sector'\n",
    "})[\n",
    "    ['postcode_sector', 'geometry']\n",
    "]\n",
    "ps.head()"
   ]
  },
  {
   "cell_type": "code",
   "execution_count": null,
   "metadata": {},
   "outputs": [],
   "source": [
    "# GB Postcodes\n",
    "# ref: https://www.ordnancesurvey.co.uk/business-and-government/products/code-point-open.html\n",
    "# Request download manually (email/link system)\n",
    "pcd_headers = pd.read_csv(\"data/codepo_gb/Doc/Code-Point_Open_Column_Headers.csv\", header=1).rename(columns={\n",
    "    'Admin_district_code': 'lad11cd',\n",
    "    'Postcode': 'postcode',\n",
    "    'Eastings': 'eastings',\n",
    "    'Northings': 'northings'\n",
    "})\n",
    "pcd_headers"
   ]
  },
  {
   "cell_type": "code",
   "execution_count": null,
   "metadata": {},
   "outputs": [],
   "source": [
    "pcd_dfs = []\n",
    "for fname in glob(\"data/codepo_gb/Data/CSV/*.csv\"):\n",
    "    df = pd.read_csv(fname, header=None, names=pcd_headers.columns)[\n",
    "        ['postcode', 'lad11cd', 'eastings', 'northings']\n",
    "    ]\n",
    "    pcd_dfs.append(df)\n",
    "pcds = pd.concat(pcd_dfs)"
   ]
  },
  {
   "cell_type": "code",
   "execution_count": null,
   "metadata": {},
   "outputs": [],
   "source": [
    "pcds = gpd.GeoDataFrame(\n",
    "    pcds, \n",
    "    geometry=gpd.points_from_xy(pcds.eastings, pcds.northings), \n",
    "    crs=27700\n",
    ")"
   ]
  },
  {
   "cell_type": "code",
   "execution_count": null,
   "metadata": {},
   "outputs": [],
   "source": [
    "pcds.postcode = pcds.postcode.apply(lambda d: d.replace(' ', ''))\n",
    "pcds.head()"
   ]
  },
  {
   "cell_type": "code",
   "execution_count": null,
   "metadata": {},
   "outputs": [],
   "source": [
    "len(pcds)"
   ]
  },
  {
   "cell_type": "markdown",
   "metadata": {},
   "source": [
    "## Get 2011 census data \n",
    "- population by Postcode Sector, LAD\n",
    "- workplace population by Workplace Zone, LAD"
   ]
  },
  {
   "cell_type": "code",
   "execution_count": null,
   "metadata": {},
   "outputs": [],
   "source": [
    "def unique_geo_len_sum(df):\n",
    "    return len(df.GEOGRAPHY_CODE.unique()) == len(df), len(df), df.OBS_VALUE.sum()"
   ]
  },
  {
   "cell_type": "markdown",
   "metadata": {},
   "source": [
    "### Postcode resident population\n",
    "Postcode data sourced from Nomis and Scotland Census"
   ]
  },
  {
   "cell_type": "code",
   "execution_count": null,
   "metadata": {},
   "outputs": [],
   "source": [
    "# ref https://www.nomisweb.co.uk/census/2011/postcode_headcounts_and_household_estimates\n",
    "url = 'https://www.nomisweb.co.uk/output/census/2011/Postcode_Estimates_Table_1.csv'\n",
    "download(url, \"data/Postcode_Estimates_Table_1.csv\", \"data\")\n",
    "\n",
    "# ref https://www.scotlandscensus.gov.uk/bulletin-figures-and-tables\n",
    "url = 'https://www.scotlandscensus.gov.uk/documents/censusresults/release1c/rel1c2tableA1.csv'\n",
    "download(url, \"data/rel1c2tableA1.csv\", \"data\")"
   ]
  },
  {
   "cell_type": "code",
   "execution_count": null,
   "metadata": {},
   "outputs": [],
   "source": [
    "pcd_pop_ew = pd.read_csv(\"data/Postcode_Estimates_Table_1.csv\").rename(columns={\n",
    "    'Postcode': 'postcode',\n",
    "    'Total': 'pop11',\n",
    "    'Occupied_Households': 'hh11'\n",
    "})[\n",
    "    ['postcode', 'pop11', 'hh11']\n",
    "]\n",
    "pcd_pop_ew.postcode = pcd_pop_ew.postcode.apply(lambda d: d.replace(' ', ''))\n",
    "pcd_pop_ew.head()"
   ]
  },
  {
   "cell_type": "code",
   "execution_count": null,
   "metadata": {},
   "outputs": [],
   "source": [
    "pcd_pop_sc = pd.read_csv(\"data/rel1c2tableA1.csv\", header=2).rename(columns={\n",
    "    '2011 Postcode': 'postcode',\n",
    "    'Usually resident population': 'pop11',\n",
    "    'Households with usual residents': 'hh11'\n",
    "}).dropna()\n",
    "pcd_pop_sc.postcode = pcd_pop_sc.postcode.apply(lambda d: str(d).replace(' ', ''))\n",
    "pcd_pop_sc.pop11 = pcd_pop_sc.pop11.astype('int')\n",
    "pcd_pop_sc.hh11 = pcd_pop_sc.hh11.astype('int')\n",
    "pcd_pop_sc.head()"
   ]
  },
  {
   "cell_type": "code",
   "execution_count": null,
   "metadata": {},
   "outputs": [],
   "source": [
    "pcd_pop = pd.concat([pcd_pop_ew, pcd_pop_sc], axis=0).sort_values('postcode')"
   ]
  },
  {
   "cell_type": "code",
   "execution_count": null,
   "metadata": {},
   "outputs": [],
   "source": [
    "len(pcd_pop), pcd_pop.pop11.sum()"
   ]
  },
  {
   "cell_type": "code",
   "execution_count": null,
   "metadata": {},
   "outputs": [],
   "source": [
    "pcd_pop11 = pd.read_csv(\"data/pc_pop_2011.csv\").sort_values('postcode')\n",
    "pcd_pop11.head()"
   ]
  },
  {
   "cell_type": "code",
   "execution_count": null,
   "metadata": {},
   "outputs": [],
   "source": [
    "len(pcd_pop11.oslaua.unique())"
   ]
  },
  {
   "cell_type": "markdown",
   "metadata": {},
   "source": [
    "### Workplace zone workplace population\n",
    "Workplace population density is available by workplace zones through NOMIS\n",
    "https://www.nomisweb.co.uk/census/2011/wp102ew"
   ]
  },
  {
   "cell_type": "code",
   "execution_count": null,
   "metadata": {},
   "outputs": [],
   "source": [
    "# Scotland\n",
    "url = 'http://www.scotlandscensus.gov.uk/documents/additional_tables/WP103SCwz.csv'\n",
    "download(url, \"data/WP103SCwz.csv\", \"data\")\n",
    "\n",
    "# England and Wales - ref https://www.nomisweb.co.uk/census/2011/wp102ew\n",
    "# Download via javascript"
   ]
  },
  {
   "cell_type": "code",
   "execution_count": null,
   "metadata": {},
   "outputs": [],
   "source": []
  },
  {
   "cell_type": "code",
   "execution_count": null,
   "metadata": {},
   "outputs": [],
   "source": [
    "unique_geo_len_sum(wp_wz11_ew)"
   ]
  },
  {
   "cell_type": "markdown",
   "metadata": {},
   "source": [
    "## Scale and project scenarios"
   ]
  }
 ],
 "metadata": {
  "kernelspec": {
   "display_name": "Python 3",
   "language": "python",
   "name": "python3"
  },
  "language_info": {
   "codemirror_mode": {
    "name": "ipython",
    "version": 3
   },
   "file_extension": ".py",
   "mimetype": "text/x-python",
   "name": "python",
   "nbconvert_exporter": "python",
   "pygments_lexer": "ipython3",
   "version": "3.6.7"
  }
 },
 "nbformat": 4,
 "nbformat_minor": 2
}
