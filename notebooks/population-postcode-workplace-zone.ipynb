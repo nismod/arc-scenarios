{
 "cells": [
  {
   "cell_type": "markdown",
   "metadata": {},
   "source": [
    "# Scale population for Postcode Sectors and Workplace Zones"
   ]
  },
  {
   "cell_type": "markdown",
   "metadata": {},
   "source": [
    "In outline:\n",
    "- get area definitions for Local Authority Districts (LAD - 2011 and 2016), Workplace Zones (WZ), Postcode Sectors (PS) in Great Britain (GB)\n",
    "- read 2011 census data for workplace population and usual resident population at LAD, WZ and PS\n",
    "- convert 2011 LAD codes to 2016 equivalents\n",
    "- read population and employment scenarios and baseline projection at LAD scale\n",
    "- scale future employment to workplace zones\n",
    "- scale future population to postcode sectors"
   ]
  },
  {
   "cell_type": "code",
   "execution_count": null,
   "metadata": {},
   "outputs": [],
   "source": [
    "import os\n",
    "import zipfile\n",
    "\n",
    "import pandas as pd\n",
    "import requests\n",
    "from ukcensusapi.Nomisweb import Nomisweb"
   ]
  },
  {
   "cell_type": "markdown",
   "metadata": {},
   "source": [
    "## Get boundaries and lookups"
   ]
  },
  {
   "cell_type": "code",
   "execution_count": null,
   "metadata": {},
   "outputs": [],
   "source": [
    "def download(url, filename, dirname=\".\", force=False):\n",
    "    if force or not os.path.exists(filename):\n",
    "        r = requests.get(url, stream=True)\n",
    "        with open(filename, 'wb') as fd:\n",
    "            for chunk in r.iter_content(chunk_size=128):\n",
    "                fd.write(chunk)\n",
    "    if filename.endswith(\".zip\"):\n",
    "        with zipfile.ZipFile(filename,\"r\") as zf:\n",
    "            zf.extractall(dirname)    "
   ]
  },
  {
   "cell_type": "code",
   "execution_count": null,
   "metadata": {},
   "outputs": [],
   "source": [
    "# Scotland Workplace Zones\n",
    "# ref: https://www.nrscotland.gov.uk/statistics-and-data/geography/our-products/census-datasets/2011-census/2011-boundaries\n",
    "url = \"https://www.nrscotland.gov.uk/files//geography/products/workplacezones2011scotland.zip\"\n",
    "download(url, \"data/workplacezones2011scotland.zip\")"
   ]
  },
  {
   "cell_type": "code",
   "execution_count": null,
   "metadata": {},
   "outputs": [],
   "source": [
    "# England and Wales Workplace Zones\n",
    "# ref: https://geoportal.statistics.gov.uk/datasets/workplace-zones-december-2011-full-clipped-boundaries-in-england-and-wales\n",
    "url = \"https://opendata.arcgis.com/datasets/a399c2a5922a4beaa080de63c0a218a3_0.zip?outSR=%7B%22latestWkid%22%3A27700%2C%22wkid%22%3A27700%7D\"\n",
    "download(url, \"data/workplacezones2011ew.zip\", \"data\")"
   ]
  },
  {
   "cell_type": "code",
   "execution_count": null,
   "metadata": {},
   "outputs": [],
   "source": [
    "# OA to LAD to WZ lookup (EW)\n",
    "# ref: http://geoportal.statistics.gov.uk/datasets/output-area-to-workplace-zone-to-local-authority-district-december-2011-lookup-in-england-and-wales\n",
    "url = \"https://opendata.arcgis.com/datasets/5a8a6ac972cc4ce4bc02f64f52f8ffd7_0.csv\"\n",
    "download(url, \"data/oa-to-workplace-zone-to-lad.csv\")"
   ]
  },
  {
   "cell_type": "code",
   "execution_count": null,
   "metadata": {},
   "outputs": [],
   "source": [
    "# GB Postcode Sectors\n",
    "# ref: https://datashare.is.ed.ac.uk/handle/10283/2597\n",
    "url = \"https://datashare.is.ed.ac.uk/bitstream/handle/10283/2597/GB_Postcodes.zip?sequence=1&isAllowed=y\"\n",
    "download(url, \"data/gb_postcodes.zip\", \"data\")"
   ]
  },
  {
   "cell_type": "markdown",
   "metadata": {},
   "source": [
    "## Get 2011 census data \n",
    "- population by Postcode Sector, LAD\n",
    "- workplace population by Workplace Zone, LAD"
   ]
  },
  {
   "cell_type": "markdown",
   "metadata": {},
   "source": [
    "England and Wales are covered by Nomis; use UKCensusAPI to access population by postcode sector and LAD."
   ]
  },
  {
   "cell_type": "code",
   "execution_count": null,
   "metadata": {},
   "outputs": [],
   "source": [
    "api = Nomisweb(\"cache\")"
   ]
  },
  {
   "cell_type": "code",
   "execution_count": null,
   "metadata": {},
   "outputs": [],
   "source": [
    "api.get_metadata(\"KS101EW\")  # Resident population"
   ]
  },
  {
   "cell_type": "code",
   "execution_count": null,
   "metadata": {},
   "outputs": [],
   "source": [
    "coverage_codes = [Nomisweb.GeoCodeLookup[\"EnglandWales\"]]\n",
    "resolution = 'TYPE276'\n",
    "geo_codes = api.get_geo_codes(coverage_codes, resolution)\n",
    "# first and last, split and joined\n",
    "ew_postcodesector_geo_codes = geo_codes.split(\",\")[0].split(\"...\")[0] + \"...\" + geo_codes.split(\",\")[-1]\n",
    "ew_postcodesector_geo_codes"
   ]
  },
  {
   "cell_type": "code",
   "execution_count": null,
   "metadata": {},
   "outputs": [],
   "source": [
    "query_params = {}\n",
    "query_params[\"date\"] = \"latest\"\n",
    "query_params[\"MEASURES\"] = \"20100\"  # Value (as opposed to Percent)\n",
    "query_params[\"geography\"] = ew_postcodesector_geo_codes # All England and Wales postcodes\n",
    "query_params[\"RURAL_URBAN\"] = \"0\"  # Total\n",
    "query_params[\"CELL\"] = \"0\"  # All usual residents\n",
    "query_params[\"select\"] = \"GEOGRAPHY_CODE,OBS_VALUE\"\n",
    "\n",
    "pop_postcodesector_ew = api.get_data('KS101EW', query_params)\n",
    "pop_postcodesector_ew.head(10)"
   ]
  },
  {
   "cell_type": "code",
   "execution_count": null,
   "metadata": {},
   "outputs": [],
   "source": [
    "def unique_geo_len_sum(df):\n",
    "    return len(df.GEOGRAPHY_CODE.unique()) == len(df), len(df), df.OBS_VALUE.sum()"
   ]
  },
  {
   "cell_type": "code",
   "execution_count": null,
   "metadata": {},
   "outputs": [],
   "source": [
    "unique_geo_len_sum(pop_postcodesector_ew)"
   ]
  },
  {
   "cell_type": "code",
   "execution_count": null,
   "metadata": {},
   "outputs": [],
   "source": [
    "lad_geo_codes = api.get_geo_codes(coverage_codes, 'TYPE464')  # LADs"
   ]
  },
  {
   "cell_type": "code",
   "execution_count": null,
   "metadata": {},
   "outputs": [],
   "source": [
    "query_params = {}\n",
    "query_params[\"date\"] = \"latest\"\n",
    "query_params[\"MEASURES\"] = \"20100\"  # Value (as opposed to Percent)\n",
    "query_params[\"geography\"] = lad_geo_codes\n",
    "query_params[\"RURAL_URBAN\"] = \"0\"  # Total\n",
    "query_params[\"CELL\"] = \"0\"  # All usual residents\n",
    "query_params[\"select\"] = \"GEOGRAPHY_CODE,OBS_VALUE\"\n",
    "\n",
    "pop_lad11_ew = api.get_data('KS101EW', query_params)\n",
    "pop_lad11_ew.head(10)"
   ]
  },
  {
   "cell_type": "code",
   "execution_count": null,
   "metadata": {},
   "outputs": [],
   "source": [
    "unique_geo_len_sum(pop_lad11_ew)"
   ]
  },
  {
   "cell_type": "code",
   "execution_count": null,
   "metadata": {},
   "outputs": [],
   "source": [
    "api.get_metadata(\"WP101EW\")  # Workplace population"
   ]
  },
  {
   "cell_type": "code",
   "execution_count": null,
   "metadata": {},
   "outputs": [],
   "source": [
    "query_params = {}\n",
    "query_params[\"date\"] = \"latest\"\n",
    "query_params[\"MEASURES\"] = \"20100\"  # Value (as opposed to Percent)\n",
    "query_params[\"geography\"] = lad_geo_codes\n",
    "query_params[\"select\"] = \"GEOGRAPHY_CODE,OBS_VALUE\"\n",
    "\n",
    "wp_lad11_ew = api.get_data('WP101EW', query_params)\n",
    "wp_lad11_ew.head(10)"
   ]
  },
  {
   "cell_type": "code",
   "execution_count": null,
   "metadata": {},
   "outputs": [],
   "source": [
    "unique_geo_len_sum(wp_lad11_ew)"
   ]
  },
  {
   "cell_type": "markdown",
   "metadata": {},
   "source": [
    "Workplace population is not available by workplace zones through NOMIS, download for England and Wales through INFUSE geo wizard at http://infusecp.mimas.ac.uk/infusewizgeo.aspx\n",
    "\n",
    "### Citations\n",
    "\n",
    "England, Northern Ireland, Scotland and Wales 2011 Census\n",
    "- Office for National Statistics ; National Records of Scotland ; Northern Ireland Statistics and Research Agency (2017): 2011 Census aggregate data. UK Data Service (Edition: February 2017). DOI: http://dx.doi.org/10.5257/census/aggregate-2011-2\n",
    "This information is licensed under the terms of the Open Government Licence [http://www.nationalarchives.gov.uk/doc/open-government-licence/version/2].\n",
    "\n",
    "England and Wales 2001 Census\n",
    "- Office for National Statistics (2011): 2001 Census aggregate data (Edition: May 2011). UK Data Service. DOI: http://dx.doi.org/10.5257/census/aggregate-2001-2\n"
   ]
  },
  {
   "cell_type": "code",
   "execution_count": null,
   "metadata": {},
   "outputs": [],
   "source": [
    "wp_wz11_ew = pd.read_csv('data/Data_AGE_DAYPOP_ECOACT_UNIT.csv').rename(columns={'GEO_CODE': 'GEOGRAPHY_CODE'})\n",
    "wp_wz11_ew.head()"
   ]
  },
  {
   "cell_type": "code",
   "execution_count": null,
   "metadata": {},
   "outputs": [],
   "source": [
    "unique_geo_len_sum(wp_wz11_ew)"
   ]
  },
  {
   "cell_type": "code",
   "execution_count": null,
   "metadata": {},
   "outputs": [],
   "source": [
    "# Scottish census tables by postocde sector\n",
    "#  - zip includes KS101SC.csv Usual Resident Population\n",
    "url = \"https://www.scotlandscensus.gov.uk/ods-web/download/getDownloadFile.html?downloadFileIds=LC%20Postcode%20Sector%20blk\"\n",
    "download(url, \"data/postcode-sectors-blk.zip\", \"data\")"
   ]
  },
  {
   "cell_type": "code",
   "execution_count": null,
   "metadata": {},
   "outputs": [],
   "source": [
    "# Scottish Workplace Population by Workplace Zone (and Industry)\n",
    "url = \"http://www.scotlandscensus.gov.uk/documents/additional_tables/WP605SCwz.csv\"\n",
    "download(url, \"data/WP605SCwz.csv\")"
   ]
  }
 ],
 "metadata": {
  "kernelspec": {
   "display_name": "Python 3",
   "language": "python",
   "name": "python3"
  },
  "language_info": {
   "codemirror_mode": {
    "name": "ipython",
    "version": 3
   },
   "file_extension": ".py",
   "mimetype": "text/x-python",
   "name": "python",
   "nbconvert_exporter": "python",
   "pygments_lexer": "ipython3",
   "version": "3.6.7"
  }
 },
 "nbformat": 4,
 "nbformat_minor": 2
}
